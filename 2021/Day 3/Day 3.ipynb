{
 "cells": [
  {
   "cell_type": "markdown",
   "id": "a05a2f01",
   "metadata": {},
   "source": [
    "# Part 1"
   ]
  },
  {
   "cell_type": "code",
   "execution_count": 175,
   "id": "1f99bc85",
   "metadata": {},
   "outputs": [],
   "source": [
    "with open('input1.txt') as f:\n",
    "    lines = f.read().splitlines()"
   ]
  },
  {
   "cell_type": "code",
   "execution_count": 157,
   "id": "bb3575ca",
   "metadata": {},
   "outputs": [],
   "source": [
    "count = [0]*len(lines[0])\n",
    "for i in range(len(lines)):\n",
    "    for j in range(len(lines[0])):\n",
    "        count[j] += int(lines[i][j])\n",
    "        "
   ]
  },
  {
   "cell_type": "code",
   "execution_count": 158,
   "id": "7d7146db",
   "metadata": {},
   "outputs": [],
   "source": [
    "count = np.array(count)\n",
    "check = count >= len(lines)/2\n",
    "\n",
    "ans1 = 0\n",
    "for i in range(len(count)):\n",
    "    ans1 += 2**i * check[len(count) -1 - i]\n",
    "\n",
    "ans2 = 0\n",
    "for i in range(len(count)):\n",
    "    ans2 += 2**i * (1-check[len(count) -1 - i])"
   ]
  },
  {
   "cell_type": "code",
   "execution_count": 159,
   "id": "1ff29196",
   "metadata": {},
   "outputs": [
    {
     "data": {
      "text/plain": [
       "4191876"
      ]
     },
     "execution_count": 159,
     "metadata": {},
     "output_type": "execute_result"
    }
   ],
   "source": [
    "ans1*ans2"
   ]
  },
  {
   "cell_type": "markdown",
   "id": "169d3f62",
   "metadata": {},
   "source": [
    "# Part 2"
   ]
  },
  {
   "cell_type": "code",
   "execution_count": 169,
   "id": "7aa38825",
   "metadata": {},
   "outputs": [],
   "source": [
    "def bitcheck(lines, num):\n",
    "    count = [0]*len(lines[0])\n",
    "    for i in range(len(lines)):\n",
    "        for j in range(len(lines[0])):\n",
    "            count[j] += int(lines[i][j])\n",
    "    count = np.array(count)\n",
    "    check = count >= len(lines)/2\n",
    "    new1 = []\n",
    "    new2 = []\n",
    "    \n",
    "    for i in range(len(lines)):\n",
    "        if int(lines[i][num]) == check[num]:\n",
    "            new1.append(lines[i])\n",
    "        else:\n",
    "            new2.append(lines[i])\n",
    "      \n",
    "    return(new1, new2)"
   ]
  },
  {
   "cell_type": "code",
   "execution_count": 170,
   "id": "2b6eeb69",
   "metadata": {},
   "outputs": [],
   "source": [
    "def oxygen(lines):\n",
    "    new1, new2 = bitcheck(lines, 0)\n",
    "    \n",
    "    for i in range(1, len(lines[0])):\n",
    "        if len(new1) == 1:\n",
    "            return(new1[0])\n",
    "        else:\n",
    "            new1, new2 = bitcheck(new1, i)\n",
    "    return(new1[0])"
   ]
  },
  {
   "cell_type": "code",
   "execution_count": 171,
   "id": "ec7aa19c",
   "metadata": {},
   "outputs": [],
   "source": [
    "def co2(lines):\n",
    "    new1, new2 = bitcheck(lines, 0)\n",
    "    \n",
    "    for i in range(1, len(lines[0])):\n",
    "        if len(new2) == 1:\n",
    "            return(new2[0])\n",
    "        else:\n",
    "            new1, new2 = bitcheck(new2, i)\n",
    "    return(new2[0])"
   ]
  },
  {
   "cell_type": "code",
   "execution_count": 172,
   "id": "4eb33fc7",
   "metadata": {},
   "outputs": [],
   "source": [
    "def tobin(binary):\n",
    "    ans = 0\n",
    "    for i in range(len(binary)):\n",
    "        ans += 2**i * int(binary[len(binary) -1 - i])\n",
    "    return(ans)"
   ]
  },
  {
   "cell_type": "code",
   "execution_count": 173,
   "id": "a73546ec",
   "metadata": {},
   "outputs": [],
   "source": [
    "oxy = tobin(oxygen(lines))\n",
    "co = tobin(co2(lines))"
   ]
  },
  {
   "cell_type": "code",
   "execution_count": 174,
   "id": "470dac1e",
   "metadata": {},
   "outputs": [
    {
     "data": {
      "text/plain": [
       "3414905"
      ]
     },
     "execution_count": 174,
     "metadata": {},
     "output_type": "execute_result"
    }
   ],
   "source": [
    "oxy*co"
   ]
  },
  {
   "cell_type": "code",
   "execution_count": 18,
   "id": "1fbb87fa",
   "metadata": {},
   "outputs": [],
   "source": [
    "with open('input1.txt') as f:\n",
    "    lines = f.read().splitlines()\n",
    "\n",
    "mat = []\n",
    "for i in range(len(lines[0])):\n",
    "    mat.append([])\n",
    "    for j in range(len(lines)):\n",
    "        mat[i].append(lines[j][i])"
   ]
  },
  {
   "cell_type": "code",
   "execution_count": 24,
   "id": "e0579aec",
   "metadata": {},
   "outputs": [
    {
     "data": {
      "text/plain": [
       "487"
      ]
     },
     "execution_count": 24,
     "metadata": {},
     "output_type": "execute_result"
    }
   ],
   "source": [
    "mat[0].count('1')"
   ]
  },
  {
   "cell_type": "code",
   "execution_count": null,
   "id": "325916b0",
   "metadata": {},
   "outputs": [],
   "source": [
    "def bitcheck(lines, num):\n",
    "    if mat[num].count('1')"
   ]
  }
 ],
 "metadata": {
  "kernelspec": {
   "display_name": "Python 3",
   "language": "python",
   "name": "python3"
  },
  "language_info": {
   "codemirror_mode": {
    "name": "ipython",
    "version": 3
   },
   "file_extension": ".py",
   "mimetype": "text/x-python",
   "name": "python",
   "nbconvert_exporter": "python",
   "pygments_lexer": "ipython3",
   "version": "3.8.8"
  }
 },
 "nbformat": 4,
 "nbformat_minor": 5
}
