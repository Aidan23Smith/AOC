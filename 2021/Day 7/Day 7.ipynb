{
 "cells": [
  {
   "cell_type": "code",
   "execution_count": 1,
   "id": "aacb4ea0",
   "metadata": {},
   "outputs": [],
   "source": [
    "with open('input1.txt') as f:\n",
    "    lines = f.read().splitlines()"
   ]
  },
  {
   "cell_type": "code",
   "execution_count": 2,
   "id": "c3e59839",
   "metadata": {},
   "outputs": [],
   "source": [
    "import numpy as np\n",
    "total = np.array(list(map(int, lines[0].split(','))))"
   ]
  },
  {
   "cell_type": "code",
   "execution_count": 3,
   "id": "0ef86707",
   "metadata": {},
   "outputs": [],
   "source": [
    "minim = float('inf')\n",
    "pos = -1\n",
    "for i in range(min(total), max(total)+1):\n",
    "    sums = 0\n",
    "    for j in total:\n",
    "        diff = abs(j - i)\n",
    "        sums += diff\n",
    "    if sums < minim:\n",
    "        minim = sums\n",
    "        pos = i"
   ]
  },
  {
   "cell_type": "code",
   "execution_count": 4,
   "id": "0b516944",
   "metadata": {},
   "outputs": [
    {
     "data": {
      "text/plain": [
       "342534"
      ]
     },
     "execution_count": 4,
     "metadata": {},
     "output_type": "execute_result"
    }
   ],
   "source": [
    "minim"
   ]
  },
  {
   "cell_type": "code",
   "execution_count": 25,
   "id": "22c8d05c",
   "metadata": {},
   "outputs": [
    {
     "data": {
      "text/plain": [
       "0"
      ]
     },
     "execution_count": 25,
     "metadata": {},
     "output_type": "execute_result"
    }
   ],
   "source": [
    "pos"
   ]
  },
  {
   "cell_type": "code",
   "execution_count": null,
   "id": "969d5f90",
   "metadata": {},
   "outputs": [],
   "source": []
  }
 ],
 "metadata": {
  "kernelspec": {
   "display_name": "Python 3",
   "language": "python",
   "name": "python3"
  },
  "language_info": {
   "codemirror_mode": {
    "name": "ipython",
    "version": 3
   },
   "file_extension": ".py",
   "mimetype": "text/x-python",
   "name": "python",
   "nbconvert_exporter": "python",
   "pygments_lexer": "ipython3",
   "version": "3.8.8"
  }
 },
 "nbformat": 4,
 "nbformat_minor": 5
}
