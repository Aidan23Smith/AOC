{
 "cells": [
  {
   "cell_type": "code",
   "execution_count": null,
   "id": "39989a38",
   "metadata": {},
   "outputs": [],
   "source": []
  },
  {
   "cell_type": "code",
   "execution_count": 270,
   "id": "16c97aef",
   "metadata": {},
   "outputs": [],
   "source": [
    "def fromhex(line):\n",
    "    res = []\n",
    "    for i in line:\n",
    "        res += list(str(format(int(i, 16), '04b')))\n",
    "    return(res)"
   ]
  },
  {
   "cell_type": "code",
   "execution_count": 271,
   "id": "1bac1929",
   "metadata": {},
   "outputs": [],
   "source": [
    "def literal(line):\n",
    "    last = True\n",
    "    i = 0\n",
    "    res = ''\n",
    "    \n",
    "    while last:\n",
    "        if line[i] == '0':\n",
    "            last = False\n",
    "        for j in range(i+1, i+5):\n",
    "            res += line[j]\n",
    "        i += 5\n",
    "        \n",
    "    return(int(res, 2), line[i:])"
   ]
  },
  {
   "cell_type": "code",
   "execution_count": 339,
   "id": "5fc03ffc",
   "metadata": {},
   "outputs": [],
   "source": [
    "def subgroups(counter, line):\n",
    "    res = []\n",
    "    \n",
    "    if line[0] == '0':\n",
    "        L = ''\n",
    "        for i in range(1, 16):\n",
    "            L += line[i]\n",
    "        templine = line[16: 16 + int(L, 2)]\n",
    "        while len(templine) > 4:\n",
    "            counter, tempres, templine = reading(counter, templine)\n",
    "            res.append(tempres)\n",
    "        line = line[16 + int(L, 2):]\n",
    "    else:\n",
    "        L = ''\n",
    "        for i in range(1, 12):\n",
    "            L += line[i]\n",
    "        line = line[12:]\n",
    "        for i in range(int(L, 2)):\n",
    "            counter, tempres, line = reading(counter, line)\n",
    "            res.append(tempres)\n",
    "\n",
    "    return(counter, res, line)"
   ]
  },
  {
   "cell_type": "code",
   "execution_count": 302,
   "id": "acd93932",
   "metadata": {},
   "outputs": [],
   "source": [
    "def ID0(counter, line):\n",
    "    counter, res, line = subgroups(counter, line)\n",
    "    res = [int(i) for i in res]\n",
    "    return(counter, sum(res), line)"
   ]
  },
  {
   "cell_type": "code",
   "execution_count": 303,
   "id": "9ccb6239",
   "metadata": {},
   "outputs": [],
   "source": [
    "def ID1(counter, line):\n",
    "    counter, res, line = subgroups(counter, line)\n",
    "    res = [int(i) for i in res]\n",
    "    ans = 1\n",
    "    for i in res:\n",
    "        ans *= i\n",
    "    return(counter, ans, line)"
   ]
  },
  {
   "cell_type": "code",
   "execution_count": 304,
   "id": "71dffcca",
   "metadata": {},
   "outputs": [],
   "source": [
    "def ID2(counter, line):\n",
    "    counter, res, line = subgroups(counter, line)\n",
    "    res = [int(i) for i in res]\n",
    "    return(counter, min(res), line)"
   ]
  },
  {
   "cell_type": "code",
   "execution_count": 305,
   "id": "7908b086",
   "metadata": {},
   "outputs": [],
   "source": [
    "def ID3(counter, line):\n",
    "    counter, res, line = subgroups(counter, line)\n",
    "    res = [int(i) for i in res]\n",
    "    return(counter, max(res), line)"
   ]
  },
  {
   "cell_type": "code",
   "execution_count": 315,
   "id": "d58972ee",
   "metadata": {},
   "outputs": [],
   "source": [
    "def ID4(counter, line):\n",
    "    res = literal(line)\n",
    "    return(counter, int(res[0]), res[1])"
   ]
  },
  {
   "cell_type": "code",
   "execution_count": 330,
   "id": "74a19f2f",
   "metadata": {},
   "outputs": [],
   "source": [
    "def ID5(counter, line):\n",
    "    counter, res, line = subgroups(counter, line)\n",
    "    res = [int(i) for i in res]\n",
    "    ans = 0\n",
    "    if res[0]>res[1]:\n",
    "        ans = 1\n",
    "    return(counter, ans, line)"
   ]
  },
  {
   "cell_type": "code",
   "execution_count": 331,
   "id": "2cf11320",
   "metadata": {},
   "outputs": [],
   "source": [
    "def ID6(counter, line):\n",
    "    counter, res, line = subgroups(counter, line)\n",
    "    res = [int(i) for i in res]\n",
    "    ans = 0\n",
    "    if res[0]<res[1]:\n",
    "        ans = 1\n",
    "    return(counter, ans, line)"
   ]
  },
  {
   "cell_type": "code",
   "execution_count": 344,
   "id": "4163b361",
   "metadata": {},
   "outputs": [],
   "source": [
    "def ID7(counter, line):\n",
    "    counter, res, line = subgroups(counter, line)\n",
    "    res = [int(i) for i in res]\n",
    "    ans = 0\n",
    "    if res[0] == res[1]:\n",
    "        ans = 1\n",
    "    return(counter, ans, line)"
   ]
  },
  {
   "cell_type": "code",
   "execution_count": 310,
   "id": "621dee38",
   "metadata": {},
   "outputs": [],
   "source": [
    "def reading(counter, line):\n",
    "    version = int(line[0]+line[1]+line[2], 2)\n",
    "    counter += version\n",
    "    ID = int(line[3]+line[4]+line[5], 2)\n",
    "\n",
    "    counter, res, line = eval('ID' + str(ID) + '(counter, line[6:])')\n",
    "\n",
    "    return(counter, res, line)"
   ]
  },
  {
   "cell_type": "code",
   "execution_count": 345,
   "id": "821a866c",
   "metadata": {},
   "outputs": [
    {
     "name": "stdout",
     "output_type": "stream",
     "text": [
      "1725277876501\n"
     ]
    }
   ],
   "source": [
    "with open('input1.txt') as f:\n",
    "    lines = f.read().splitlines()\n",
    "for i in lines:\n",
    "    print(reading(0, fromhex(i))[1])"
   ]
  },
  {
   "cell_type": "code",
   "execution_count": null,
   "id": "503037a5",
   "metadata": {},
   "outputs": [],
   "source": []
  }
 ],
 "metadata": {
  "kernelspec": {
   "display_name": "Python 3",
   "language": "python",
   "name": "python3"
  },
  "language_info": {
   "codemirror_mode": {
    "name": "ipython",
    "version": 3
   },
   "file_extension": ".py",
   "mimetype": "text/x-python",
   "name": "python",
   "nbconvert_exporter": "python",
   "pygments_lexer": "ipython3",
   "version": "3.8.8"
  }
 },
 "nbformat": 4,
 "nbformat_minor": 5
}
