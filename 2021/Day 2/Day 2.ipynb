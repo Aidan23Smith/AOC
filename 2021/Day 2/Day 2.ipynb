{
 "cells": [
  {
   "cell_type": "code",
   "execution_count": 1,
   "id": "a6776f01",
   "metadata": {},
   "outputs": [],
   "source": [
    "from numpy import loadtxt\n",
    "import numpy as np\n",
    "\n",
    "with open('input1.txt') as f:\n",
    "    lines = f.read().splitlines()"
   ]
  },
  {
   "cell_type": "code",
   "execution_count": 2,
   "id": "9d75d196",
   "metadata": {},
   "outputs": [],
   "source": [
    "depth = 0\n",
    "hor = 0\n",
    "aim = 0\n",
    "\n",
    "for i in range(len(lines)):\n",
    "    if lines[i].split()[0] == 'forward':\n",
    "        hor += int(lines[i].split()[1])\n",
    "        depth += aim*int(lines[i].split()[1])\n",
    "    elif lines[i].split()[0] == 'up':\n",
    "        aim -= int(lines[i].split()[1])\n",
    "    elif lines[i].split()[0] == 'down':\n",
    "        aim += int(lines[i].split()[1])"
   ]
  },
  {
   "cell_type": "code",
   "execution_count": 3,
   "id": "b504fffb",
   "metadata": {},
   "outputs": [
    {
     "name": "stdout",
     "output_type": "stream",
     "text": [
      "1592426537\n"
     ]
    }
   ],
   "source": [
    "print(depth*hor)"
   ]
  },
  {
   "cell_type": "code",
   "execution_count": null,
   "id": "750fcbb6",
   "metadata": {},
   "outputs": [],
   "source": []
  }
 ],
 "metadata": {
  "kernelspec": {
   "display_name": "Python 3",
   "language": "python",
   "name": "python3"
  },
  "language_info": {
   "codemirror_mode": {
    "name": "ipython",
    "version": 3
   },
   "file_extension": ".py",
   "mimetype": "text/x-python",
   "name": "python",
   "nbconvert_exporter": "python",
   "pygments_lexer": "ipython3",
   "version": "3.8.8"
  }
 },
 "nbformat": 4,
 "nbformat_minor": 5
}
