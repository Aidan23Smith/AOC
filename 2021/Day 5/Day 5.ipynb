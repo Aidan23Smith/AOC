{
 "cells": [
  {
   "cell_type": "code",
   "execution_count": 61,
   "id": "0a95099e",
   "metadata": {},
   "outputs": [],
   "source": [
    "with open('input1.txt') as f:\n",
    "    lines = f.read().splitlines()"
   ]
  },
  {
   "cell_type": "code",
   "execution_count": 62,
   "id": "6bf82192",
   "metadata": {},
   "outputs": [],
   "source": [
    "import numpy as np\n",
    "\n",
    "ans = np.zeros((1000,1000))\n",
    "\n",
    "for i in range(len(lines)):\n",
    "    current = lines[i].split(' -> ')\n",
    "    fro = [int(current[0].split(',')[0]), int(current[0].split(',')[1])]\n",
    "    to = [int(current[1].split(',')[0]), int(current[1].split(',')[1])]\n",
    "    \n",
    "    \n",
    "    if fro[0] == to[0]:\n",
    "        for j in range(abs(fro[1] - to[1])+1):\n",
    "            ans[fro[0]][min(fro[1], to[1])+j] = ans[fro[0]][min(fro[1], to[1])+j] + 1\n",
    "    elif fro[1] == to[1]:\n",
    "        for j in range(abs(fro[0] - to[0])+1):\n",
    "            ans[min(fro[0], to[0])+j][fro[1]] = ans[min(fro[0], to[0])+j][fro[1]] + 1\n",
    "    else:\n",
    "        if (fro[0]<to[0] and fro[1]<to[1]) or (fro[0]>to[0] and fro[1]>to[1]):\n",
    "            for j in range(abs(fro[0] - to[0])+1):\n",
    "                ans[min(fro[0], to[0])+j][min(fro[1], to[1])+j] = ans[min(fro[0], to[0])+j][min(fro[1], to[1])+j] + 1\n",
    "        else:\n",
    "            for j in range(abs(fro[0] - to[0])+1):\n",
    "                ans[min(fro[0], to[0])+j][max(fro[1], to[1])-j] = ans[min(fro[0], to[0])+j][max(fro[1], to[1])-j] + 1"
   ]
  },
  {
   "cell_type": "code",
   "execution_count": 63,
   "id": "5e16b5a9",
   "metadata": {},
   "outputs": [
    {
     "data": {
      "text/plain": [
       "19771"
      ]
     },
     "execution_count": 63,
     "metadata": {},
     "output_type": "execute_result"
    }
   ],
   "source": [
    "sum(sum(ans>=2))"
   ]
  },
  {
   "cell_type": "code",
   "execution_count": 54,
   "id": "42e7250b",
   "metadata": {},
   "outputs": [
    {
     "data": {
      "text/plain": [
       "array([[1., 0., 1., 0., 0., 0., 0., 1., 1., 0.],\n",
       "       [0., 1., 1., 1., 0., 0., 0., 2., 0., 0.],\n",
       "       [0., 0., 2., 0., 1., 0., 1., 1., 1., 0.],\n",
       "       [0., 0., 0., 1., 0., 2., 0., 3., 0., 0.],\n",
       "       [0., 1., 1., 2., 3., 1., 1., 2., 1., 1.],\n",
       "       [0., 0., 0., 1., 0., 1., 0., 0., 0., 0.],\n",
       "       [0., 0., 1., 0., 0., 0., 1., 0., 0., 0.],\n",
       "       [0., 1., 0., 0., 0., 0., 0., 1., 0., 0.],\n",
       "       [1., 0., 0., 0., 0., 0., 0., 0., 1., 0.],\n",
       "       [2., 2., 2., 1., 1., 1., 0., 0., 0., 0.]])"
      ]
     },
     "execution_count": 54,
     "metadata": {},
     "output_type": "execute_result"
    }
   ],
   "source": [
    "ans.T"
   ]
  },
  {
   "cell_type": "code",
   "execution_count": null,
   "id": "63898654",
   "metadata": {},
   "outputs": [],
   "source": []
  }
 ],
 "metadata": {
  "kernelspec": {
   "display_name": "Python 3",
   "language": "python",
   "name": "python3"
  },
  "language_info": {
   "codemirror_mode": {
    "name": "ipython",
    "version": 3
   },
   "file_extension": ".py",
   "mimetype": "text/x-python",
   "name": "python",
   "nbconvert_exporter": "python",
   "pygments_lexer": "ipython3",
   "version": "3.8.8"
  }
 },
 "nbformat": 4,
 "nbformat_minor": 5
}
