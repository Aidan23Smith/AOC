{
 "cells": [
  {
   "cell_type": "markdown",
   "id": "cae526fc",
   "metadata": {},
   "source": [
    "# Part 1"
   ]
  },
  {
   "cell_type": "code",
   "execution_count": 276,
   "id": "2a8d7baf",
   "metadata": {},
   "outputs": [],
   "source": [
    "with open('input1.txt') as f:\n",
    "    lines = f.read().splitlines()"
   ]
  },
  {
   "cell_type": "code",
   "execution_count": 277,
   "id": "600fcd69",
   "metadata": {},
   "outputs": [],
   "source": [
    "import numpy as np\n",
    "\n",
    "current = -1\n",
    "\n",
    "bingo = [0]*lines.count('')\n",
    "random = lines[0].split(',')\n",
    "\n",
    "for i in range(lines.count('')):\n",
    "    bingo[i] = np.zeros((5,5))\n",
    "    for j in range(5):\n",
    "        for k in range(5):\n",
    "            bingo[i][j, k] = int(lines[6*i+2+j].split()[k])\n",
    "        "
   ]
  },
  {
   "cell_type": "code",
   "execution_count": 278,
   "id": "72c5c085",
   "metadata": {},
   "outputs": [],
   "source": [
    "def replace(bingo, num):\n",
    "    bingo[np.where(bingo == num)[0], np.where(bingo == num)[1]] = -1\n",
    "    return bingo"
   ]
  },
  {
   "cell_type": "code",
   "execution_count": 279,
   "id": "21a0e248",
   "metadata": {},
   "outputs": [],
   "source": [
    "def checker(bingo):\n",
    "    for i in range(len(bingo[0])):\n",
    "        if (sum(bingo[i,:]) == -5 or sum(bingo[:,i]) == -5) and bingo[0,0] != float('inf'):\n",
    "            return(1)\n",
    "    return(0)"
   ]
  },
  {
   "cell_type": "code",
   "execution_count": 280,
   "id": "269d3c83",
   "metadata": {},
   "outputs": [],
   "source": [
    "def bingotime(bingo, random):\n",
    "    count = 0\n",
    "    for x in random:\n",
    "        for i in range(len(bingo)):\n",
    "            bingo[i] = replace(bingo[i], int(x))\n",
    "            if checker(bingo[i]):\n",
    "                count += 1\n",
    "                if count == len(bingo):\n",
    "                    bingo[i][np.where(bingo[i] == -1)[0], np.where(bingo[i] == -1)[1]] = 0\n",
    "                    return(int(x)*sum(sum(bingo[i])))\n",
    "                bingo[i][0,0] = float('inf')"
   ]
  },
  {
   "cell_type": "code",
   "execution_count": 281,
   "id": "cbaeee7d",
   "metadata": {},
   "outputs": [
    {
     "name": "stdout",
     "output_type": "stream",
     "text": [
      "18063.0\n"
     ]
    }
   ],
   "source": [
    "print(bingotime(bingo, random))"
   ]
  },
  {
   "cell_type": "code",
   "execution_count": 203,
   "id": "1b772730",
   "metadata": {},
   "outputs": [
    {
     "data": {
      "text/plain": [
       "[array([[22., -1., -1., -1., -1.],\n",
       "        [ 8., -1., -1., -1., -1.],\n",
       "        [-1., -1., -1., -1., -1.],\n",
       "        [ 6., -1.,  3., 18., -1.],\n",
       "        [ 1., 12., 20., 15., 19.]]),\n",
       " array([[ 3., 15.,  0.,  0., 22.],\n",
       "        [ 0., 18.,  0.,  0.,  0.],\n",
       "        [19.,  8.,  0., 25.,  0.],\n",
       "        [20.,  0.,  0.,  0.,  0.],\n",
       "        [ 0.,  0.,  0., 12.,  6.]]),\n",
       " array([[-1., -1., -1., -1., -1.],\n",
       "        [-1., -1., 15., -1., 19.],\n",
       "        [18.,  8., -1., 26., 20.],\n",
       "        [22., -1., 13.,  6., -1.],\n",
       "        [-1., -1., 12.,  3., -1.]])]"
      ]
     },
     "execution_count": 203,
     "metadata": {},
     "output_type": "execute_result"
    }
   ],
   "source": [
    "bingo"
   ]
  },
  {
   "cell_type": "code",
   "execution_count": 134,
   "id": "72336cac",
   "metadata": {},
   "outputs": [],
   "source": [
    "bingo[0][0,0] = -1"
   ]
  },
  {
   "cell_type": "code",
   "execution_count": 135,
   "id": "7bc17f02",
   "metadata": {},
   "outputs": [
    {
     "data": {
      "text/plain": [
       "array([[-1., 13.,  0.,  0.,  0.],\n",
       "       [ 8.,  0.,  0.,  0.,  0.],\n",
       "       [ 0.,  0.,  0., 16.,  0.],\n",
       "       [ 6., 10.,  3., 18.,  0.],\n",
       "       [ 1., 12., 20., 15., 19.]])"
      ]
     },
     "execution_count": 135,
     "metadata": {},
     "output_type": "execute_result"
    }
   ],
   "source": [
    "bingo[0]"
   ]
  },
  {
   "cell_type": "code",
   "execution_count": 137,
   "id": "06d9780f",
   "metadata": {},
   "outputs": [
    {
     "data": {
      "text/plain": [
       "140.0"
      ]
     },
     "execution_count": 137,
     "metadata": {},
     "output_type": "execute_result"
    }
   ],
   "source": [
    "sum(sum(bingo[0]))"
   ]
  },
  {
   "cell_type": "code",
   "execution_count": 148,
   "id": "40ce1ed2",
   "metadata": {},
   "outputs": [],
   "source": [
    "bingo[0][np.where(bingo[0] == -1)[0], np.where(bingo[0] == -1)[1]] = 0"
   ]
  },
  {
   "cell_type": "code",
   "execution_count": 149,
   "id": "cffe06f5",
   "metadata": {},
   "outputs": [
    {
     "data": {
      "text/plain": [
       "array([[ 0., 13.,  0.,  0.,  0.],\n",
       "       [ 8.,  0.,  0.,  0.,  0.],\n",
       "       [ 0.,  0.,  0., 16.,  0.],\n",
       "       [ 6., 10.,  3., 18.,  0.],\n",
       "       [ 1., 12., 20., 15., 19.]])"
      ]
     },
     "execution_count": 149,
     "metadata": {},
     "output_type": "execute_result"
    }
   ],
   "source": [
    "bingo[0]"
   ]
  },
  {
   "cell_type": "code",
   "execution_count": 147,
   "id": "3f96d550",
   "metadata": {},
   "outputs": [
    {
     "data": {
      "text/plain": [
       "array([[-1., 13.,  0.,  0.,  0.],\n",
       "       [ 8., -1.,  0.,  0.,  0.],\n",
       "       [ 0.,  0.,  0., 16.,  0.],\n",
       "       [ 6., 10.,  3., 18.,  0.],\n",
       "       [ 1., 12., 20., 15., 19.]])"
      ]
     },
     "execution_count": 147,
     "metadata": {},
     "output_type": "execute_result"
    }
   ],
   "source": [
    "bingo[0][0, 0] = -1\n",
    "bingo[0][1,1] = -1\n",
    "bingo[0]"
   ]
  },
  {
   "cell_type": "code",
   "execution_count": null,
   "id": "43234c08",
   "metadata": {},
   "outputs": [],
   "source": []
  }
 ],
 "metadata": {
  "kernelspec": {
   "display_name": "Python 3",
   "language": "python",
   "name": "python3"
  },
  "language_info": {
   "codemirror_mode": {
    "name": "ipython",
    "version": 3
   },
   "file_extension": ".py",
   "mimetype": "text/x-python",
   "name": "python",
   "nbconvert_exporter": "python",
   "pygments_lexer": "ipython3",
   "version": "3.8.8"
  }
 },
 "nbformat": 4,
 "nbformat_minor": 5
}
