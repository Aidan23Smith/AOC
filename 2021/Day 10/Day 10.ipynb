{
 "cells": [
  {
   "cell_type": "code",
   "execution_count": 57,
   "id": "8d7ca9b8",
   "metadata": {},
   "outputs": [],
   "source": [
    "with open('input1.txt') as f:\n",
    "    lines = f.read().splitlines()"
   ]
  },
  {
   "cell_type": "code",
   "execution_count": 58,
   "id": "332bcb7f",
   "metadata": {},
   "outputs": [],
   "source": [
    "def findwrong(line):\n",
    "    good = []\n",
    "    for i in list(line):\n",
    "        if i == ')':\n",
    "            if good[-1] != '(':\n",
    "                return(3, good)\n",
    "            else:\n",
    "                good.pop(-1)\n",
    "        elif i == '}':\n",
    "            if good[-1] != '{':\n",
    "                return(1197, good)\n",
    "            else:\n",
    "                good.pop(-1)\n",
    "        elif i == ']':\n",
    "            if good[-1] != '[':\n",
    "                return(57, good)\n",
    "            else:\n",
    "                good.pop(-1)\n",
    "        elif i == '>':\n",
    "            if good[-1] != '<':\n",
    "                return(25137, good)\n",
    "            else:\n",
    "                good.pop(-1)\n",
    "        else:\n",
    "            good.append(i)\n",
    "    return(0, good)\n",
    "        "
   ]
  },
  {
   "cell_type": "code",
   "execution_count": 59,
   "id": "8d667fc2",
   "metadata": {},
   "outputs": [],
   "source": [
    "res = 0\n",
    "score = []\n",
    "count = 0\n",
    "\n",
    "for i in lines:\n",
    "    out = findwrong(i)\n",
    "    res += out[0]\n",
    "    if out[0] == 0:\n",
    "        score.append(0)\n",
    "        out[1].reverse()\n",
    "        for j in out[1]:\n",
    "            score[count] = score[count]*5\n",
    "            if j == '(':\n",
    "                score[count] += 1\n",
    "            elif j == '[':\n",
    "                score[count] += 2\n",
    "            elif j == '{':\n",
    "                score[count] += 3\n",
    "            elif j == '<':\n",
    "                score[count] += 4\n",
    "        count+=1"
   ]
  },
  {
   "cell_type": "code",
   "execution_count": 60,
   "id": "3748aadc",
   "metadata": {},
   "outputs": [
    {
     "name": "stdout",
     "output_type": "stream",
     "text": [
      "318081\n"
     ]
    }
   ],
   "source": [
    "print(res)"
   ]
  },
  {
   "cell_type": "code",
   "execution_count": 61,
   "id": "18507702",
   "metadata": {},
   "outputs": [
    {
     "name": "stdout",
     "output_type": "stream",
     "text": [
      "4361305341\n"
     ]
    }
   ],
   "source": [
    "score.sort()\n",
    "print(score[int(len(score)/2)])"
   ]
  },
  {
   "cell_type": "code",
   "execution_count": null,
   "id": "0bc7dc33",
   "metadata": {},
   "outputs": [],
   "source": []
  },
  {
   "cell_type": "code",
   "execution_count": null,
   "id": "27d36d41",
   "metadata": {},
   "outputs": [],
   "source": []
  },
  {
   "cell_type": "code",
   "execution_count": null,
   "id": "45b95f02",
   "metadata": {},
   "outputs": [],
   "source": []
  }
 ],
 "metadata": {
  "kernelspec": {
   "display_name": "Python 3",
   "language": "python",
   "name": "python3"
  },
  "language_info": {
   "codemirror_mode": {
    "name": "ipython",
    "version": 3
   },
   "file_extension": ".py",
   "mimetype": "text/x-python",
   "name": "python",
   "nbconvert_exporter": "python",
   "pygments_lexer": "ipython3",
   "version": "3.8.8"
  }
 },
 "nbformat": 4,
 "nbformat_minor": 5
}
