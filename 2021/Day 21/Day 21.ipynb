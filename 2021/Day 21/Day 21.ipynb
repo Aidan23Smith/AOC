{
 "cells": [
  {
   "cell_type": "code",
   "execution_count": 34,
   "id": "ba916ad1",
   "metadata": {},
   "outputs": [],
   "source": [
    "def pt1(p1, p2):\n",
    "    current = 1\n",
    "    s1 = 0\n",
    "    s2 = 0\n",
    "    \n",
    "    while s1 < 1000 and s2 <1000:\n",
    "        for i in range(3):\n",
    "            p1 += (current-1%100)+1\n",
    "            current += 1\n",
    "        \n",
    "        s1 += ((p1-1)%10)+1\n",
    "        if s1<1000:\n",
    "            for i in range(3):\n",
    "                p2 += (current-1%100)+1\n",
    "                current +=1\n",
    "        \n",
    "        \n",
    "            s2 += ((p2-1)%10)+1\n",
    "    return(min(s1, s2)*(current-1))"
   ]
  },
  {
   "cell_type": "code",
   "execution_count": 35,
   "id": "7688a00c",
   "metadata": {},
   "outputs": [
    {
     "data": {
      "text/plain": [
       "598416"
      ]
     },
     "execution_count": 35,
     "metadata": {},
     "output_type": "execute_result"
    }
   ],
   "source": [
    "pt1(1, 2)"
   ]
  },
  {
   "cell_type": "code",
   "execution_count": 138,
   "id": "899cdbe0",
   "metadata": {},
   "outputs": [],
   "source": [
    "import copy\n",
    "def pt2(s, p, who, win, counter, dice):\n",
    "    for i in dice:\n",
    "        p[who] += i\n",
    "        s[who] += ((p[who]-1)%10)+1\n",
    "        if s[who]<21:\n",
    "            win = pt2(copy.deepcopy(s), copy.deepcopy(p), 1-who, win, counter*dice[i], dice)\n",
    "        else:\n",
    "            win[who] += counter*dice[i]\n",
    "        s[who] -= ((p[who]-1)%10)+1\n",
    "        p[who] -= i\n",
    "    return(win)"
   ]
  },
  {
   "cell_type": "code",
   "execution_count": 140,
   "id": "4199ee0f",
   "metadata": {},
   "outputs": [
    {
     "data": {
      "text/plain": [
       "{0: 27674034218179, 1: 17242469745088}"
      ]
     },
     "execution_count": 140,
     "metadata": {},
     "output_type": "execute_result"
    }
   ],
   "source": [
    "pt2([0,0], [1, 2], 0, {0:0, 1:0}, 1, {3:1, 4:3, 5:6, 6:7, 7:6, 8:3, 9:1})"
   ]
  },
  {
   "cell_type": "code",
   "execution_count": null,
   "id": "ef28be12",
   "metadata": {},
   "outputs": [],
   "source": []
  }
 ],
 "metadata": {
  "kernelspec": {
   "display_name": "Python 3",
   "language": "python",
   "name": "python3"
  },
  "language_info": {
   "codemirror_mode": {
    "name": "ipython",
    "version": 3
   },
   "file_extension": ".py",
   "mimetype": "text/x-python",
   "name": "python",
   "nbconvert_exporter": "python",
   "pygments_lexer": "ipython3",
   "version": "3.8.8"
  }
 },
 "nbformat": 4,
 "nbformat_minor": 5
}
