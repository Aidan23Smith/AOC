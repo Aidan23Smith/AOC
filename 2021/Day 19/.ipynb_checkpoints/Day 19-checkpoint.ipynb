{
 "cells": [
  {
   "cell_type": "code",
   "execution_count": 506,
   "id": "af0f2ac2",
   "metadata": {},
   "outputs": [],
   "source": [
    "def compare(alls):\n",
    "    base = alls[0]\n",
    "    alls.pop(0)\n",
    "    \n",
    "    \n",
    "    while alls != []:\n",
    "        for i in range(len(base)):\n",
    "            count = 0\n",
    "            base[:,0] -= base[i][0]\n",
    "            base[:,1] -= base[i][1]\n",
    "            base[:,2] -= base[i][2]\n",
    "            for j in range(len(alls)):              \n",
    "                l = 0\n",
    "                while l < 24:\n",
    "                    l += 1\n",
    "                    current = copy.deepcopy(alls[j-count])\n",
    "                    cycle(current, l)\n",
    "\n",
    "                    k = 0\n",
    "                    while k < len(current):\n",
    "                        current[:,0] -= current[k][0]\n",
    "                        current[:,1] -= current[k][1]\n",
    "                        current[:,2] -= current[k][2]\n",
    "\n",
    "                        if len([x for x in current if x in base]) >= 12:\n",
    "                            if [x for x in current if x not in base] != []:\n",
    "                                base = np.vstack((base, np.array([x for x in current if x not in base])))\n",
    "                            alls.pop(j)\n",
    "                            if alls == []:\n",
    "                                return(len(base))\n",
    "                            count += 1\n",
    "                            k=len(current)\n",
    "                        k += 1\n",
    "                \n",
    "    return(len(base))"
   ]
  },
  {
   "cell_type": "code",
   "execution_count": 531,
   "id": "0b3d5646",
   "metadata": {},
   "outputs": [],
   "source": [
    "def compare(alls):\n",
    "    count = 0\n",
    "\n",
    "    connect = {0:0}\n",
    "    for m in range(len(alls)):\n",
    "        base = copy.deepcopy(alls[m])\n",
    "        \n",
    "        for i in range(len(base)):\n",
    "            \n",
    "            base[:,0] -= base[i][0]\n",
    "            base[:,1] -= base[i][1]\n",
    "            base[:,2] -= base[i][2]\n",
    "            for j in range(len(alls)):\n",
    "                if j not in connect and j != m:\n",
    "                    l = 0\n",
    "                    while l < 24:\n",
    "                        l += 1\n",
    "                        current = copy.deepcopy(alls[j])\n",
    "                        cycle(current, l)\n",
    "\n",
    "                        k = 0\n",
    "                        while k < len(current):\n",
    "                            current[:,0] -= current[k][0]\n",
    "                            current[:,1] -= current[k][1]\n",
    "                            current[:,2] -= current[k][2]\n",
    "\n",
    "                            if len([x for x in current if x in base]) >= 12:\n",
    "                                print(alls[j][k])\n",
    "                                print([x for x in current if x in base])\n",
    "                                connect[j] = [m, alls[m][i], alls[j][k], l]\n",
    "                                count += 1\n",
    "                                k=len(current)\n",
    "                                l=24\n",
    "                            k += 1\n",
    "                \n",
    "    return(connect)"
   ]
  },
  {
   "cell_type": "code",
   "execution_count": 354,
   "id": "9b0e60a3",
   "metadata": {},
   "outputs": [],
   "source": [
    "import copy\n",
    "def cycle(single, num):\n",
    "    if num%6 == 1:\n",
    "        temp = copy.deepcopy(single[:,0])\n",
    "        single[:,0] = -single[:,1]\n",
    "        single[:,1] = temp\n",
    "    elif num%6 == 2:\n",
    "        single[:,0] = -single[:,0]\n",
    "        single[:,0] = -single[:,1]\n",
    "    elif num%6 == 3:\n",
    "        temp = copy.deepcopy(single[:,0])\n",
    "        single[:,0] = single[:,1]\n",
    "        single[:,1] = -temp\n",
    "    elif num%6 == 4:\n",
    "        temp = copy.deepcopy(single[:,0])\n",
    "        single[:,0] = -single[:,2]\n",
    "        single[:,2] = temp\n",
    "    elif num%6 == 5:\n",
    "        temp = copy.deepcopy(single[:,0])\n",
    "        single[:,0] = single[:,2]\n",
    "        single[:,2] = -temp\n",
    "    \n",
    "    num = int(num/6)\n",
    "    if num == 1:\n",
    "        temp = copy.deepcopy(single[:,1])\n",
    "        single[:,1] = -single[:,2]\n",
    "        single[:,2] = temp\n",
    "    elif num == 2:\n",
    "        single[:,1] = -single[:,1]\n",
    "        single[:,2] = -single[:,2]\n",
    "    elif num == 3:\n",
    "        temp = copy.deepcopy(single[:,1])\n",
    "        single[:,1] = single[:,2]\n",
    "        single[:,2] = -temp \n",
    "    \n",
    "    return(single)"
   ]
  },
  {
   "cell_type": "code",
   "execution_count": 527,
   "id": "f5ddfd95",
   "metadata": {},
   "outputs": [],
   "source": [
    "def dochange(single, instr, connect):\n",
    "    add = copy.deepcopy(instr[1])\n",
    "    sub = copy.deepcopy(instr[2])\n",
    "    \n",
    "    cycle(single, instr[3])\n",
    "    print(single)\n",
    "    single[:,0] -= sub[0]\n",
    "    single[:,1] -= sub[1]\n",
    "    single[:,2] -= sub[2]\n",
    "    \n",
    "    print(sub[0])\n",
    "    print(single)\n",
    "    single[:,0] += add[0]\n",
    "    single[:,1] += add[1]\n",
    "    single[:,2] += add[2]\n",
    "    \n",
    "    print(single)\n",
    "    if instr[0] != 0:\n",
    "        single = dochange(single, connect[instr[0]], connect)\n",
    "    \n",
    "    return(single)"
   ]
  },
  {
   "cell_type": "code",
   "execution_count": 528,
   "id": "cb4107d4",
   "metadata": {},
   "outputs": [
    {
     "name": "stdout",
     "output_type": "stream",
     "text": [
      "[[-422  422  578]\n",
      " [-423  423  415]\n",
      " [-917  917 -361]\n",
      " [-658  658  858]\n",
      " [-138  138   22]\n",
      " [-619  619  847]\n",
      " [ 569 -569 -846]\n",
      " [ 361 -361  727]\n",
      " [-603  603 -452]\n",
      " [ 402 -402  600]\n",
      " [-430  430  532]\n",
      " [ 761 -761  534]\n",
      " [-571  571  750]\n",
      " [ 666 -666 -811]\n",
      " [ 592 -592  574]\n",
      " [-545  545 -477]\n",
      " [ 491 -491 -529]\n",
      " [ 685 -685  520]\n",
      " [-935  935 -424]\n",
      " [-539  539 -444]\n",
      " [ 435 -435  557]\n",
      " [ 763 -763 -893]\n",
      " [ 499 -499 -711]\n",
      " [ 354 -354 -619]\n",
      " [-889  889 -390]]\n",
      "-336\n",
      "[[  -86  -236  -280]\n",
      " [  -87  -235  -443]\n",
      " [ -581   259 -1219]\n",
      " [ -322     0     0]\n",
      " [  198  -520  -836]\n",
      " [ -283   -39   -11]\n",
      " [  905 -1227 -1704]\n",
      " [  697 -1019  -131]\n",
      " [ -267   -55 -1310]\n",
      " [  738 -1060  -258]\n",
      " [  -94  -228  -326]\n",
      " [ 1097 -1419  -324]\n",
      " [ -235   -87  -108]\n",
      " [ 1002 -1324 -1669]\n",
      " [  928 -1250  -284]\n",
      " [ -209  -113 -1335]\n",
      " [  827 -1149 -1387]\n",
      " [ 1021 -1343  -338]\n",
      " [ -599   277 -1282]\n",
      " [ -203  -119 -1302]\n",
      " [  771 -1093  -301]\n",
      " [ 1099 -1421 -1751]\n",
      " [  835 -1157 -1569]\n",
      " [  690 -1012 -1477]\n",
      " [ -553   231 -1248]]\n",
      "[[  318  -824 -1181]\n",
      " [  317  -823 -1344]\n",
      " [ -177  -329 -2120]\n",
      " [   82  -588  -901]\n",
      " [  602 -1108 -1737]\n",
      " [  121  -627  -912]\n",
      " [ 1309 -1815 -2605]\n",
      " [ 1101 -1607 -1032]\n",
      " [  137  -643 -2211]\n",
      " [ 1142 -1648 -1159]\n",
      " [  310  -816 -1227]\n",
      " [ 1501 -2007 -1225]\n",
      " [  169  -675 -1009]\n",
      " [ 1406 -1912 -2570]\n",
      " [ 1332 -1838 -1185]\n",
      " [  195  -701 -2236]\n",
      " [ 1231 -1737 -2288]\n",
      " [ 1425 -1931 -1239]\n",
      " [ -195  -311 -2183]\n",
      " [  201  -707 -2203]\n",
      " [ 1175 -1681 -1202]\n",
      " [ 1503 -2009 -2652]\n",
      " [ 1239 -1745 -2470]\n",
      " [ 1094 -1600 -2378]\n",
      " [ -149  -357 -2149]]\n"
     ]
    },
    {
     "data": {
      "text/plain": [
       "array([[  318,  -824, -1181],\n",
       "       [  317,  -823, -1344],\n",
       "       [ -177,  -329, -2120],\n",
       "       [   82,  -588,  -901],\n",
       "       [  602, -1108, -1737],\n",
       "       [  121,  -627,  -912],\n",
       "       [ 1309, -1815, -2605],\n",
       "       [ 1101, -1607, -1032],\n",
       "       [  137,  -643, -2211],\n",
       "       [ 1142, -1648, -1159],\n",
       "       [  310,  -816, -1227],\n",
       "       [ 1501, -2007, -1225],\n",
       "       [  169,  -675, -1009],\n",
       "       [ 1406, -1912, -2570],\n",
       "       [ 1332, -1838, -1185],\n",
       "       [  195,  -701, -2236],\n",
       "       [ 1231, -1737, -2288],\n",
       "       [ 1425, -1931, -1239],\n",
       "       [ -195,  -311, -2183],\n",
       "       [  201,  -707, -2203],\n",
       "       [ 1175, -1681, -1202],\n",
       "       [ 1503, -2009, -2652],\n",
       "       [ 1239, -1745, -2470],\n",
       "       [ 1094, -1600, -2378],\n",
       "       [ -149,  -357, -2149]])"
      ]
     },
     "execution_count": 528,
     "metadata": {},
     "output_type": "execute_result"
    }
   ],
   "source": [
    "rel = dochange(copy.deepcopy(alls[1]), copy.deepcopy(base[1]), copy.deepcopy(base))\n",
    "rel"
   ]
  },
  {
   "cell_type": "code",
   "execution_count": 452,
   "id": "08cd94e5",
   "metadata": {},
   "outputs": [],
   "source": [
    "def rel(alls, compare):\n",
    "    rel = alls[0]\n",
    "    for i in compare:\n",
    "        if i!= 0:\n",
    "            rel = np.vstack((rel, np.array([x for x in dochange(alls[i], compare[i], compare) if x not in rel])))\n",
    "  \n",
    "    return(rel)"
   ]
  },
  {
   "cell_type": "code",
   "execution_count": 532,
   "id": "5d8c8aa0",
   "metadata": {},
   "outputs": [],
   "source": [
    "import numpy as np\n",
    "\n",
    "with open('input1.txt') as f:\n",
    "    lines = f.read().splitlines()\n",
    "    \n",
    "alls = []\n",
    "\n",
    "for i in lines:\n",
    "    if i == '':\n",
    "        alls[-1] = np.array(alls[-1])\n",
    "    elif i[1] == '-':\n",
    "        alls.append([])\n",
    "    else:\n",
    "        alls[-1].append(list(map(int, list(i.split(',')))))\n",
    "alls[-1] = np.array(alls[-1])"
   ]
  },
  {
   "cell_type": "code",
   "execution_count": 533,
   "id": "7921f60f",
   "metadata": {},
   "outputs": [
    {
     "name": "stdout",
     "output_type": "stream",
     "text": [
      "[-336  658  858]\n",
      "[-743  427 -804]\n",
      "[-500  565 -823]\n",
      "[ 571 -461 -707]\n"
     ]
    },
    {
     "data": {
      "text/plain": [
       "{0: 0,\n",
       " 1: [0, array([ 404, -588, -901]), array([-336,  658,  858]), 2],\n",
       " 4: [1, array([ 515,  917, -361]), array([-743,  427, -804]), 3],\n",
       " 3: [1, array([-340, -569, -846]), array([-500,  565, -823]), 1],\n",
       " 2: [4, array([-293, -554,  779]), array([ 571, -461, -707]), 1]}"
      ]
     },
     "execution_count": 533,
     "metadata": {},
     "output_type": "execute_result"
    }
   ],
   "source": [
    "base = compare(alls)\n",
    "base"
   ]
  },
  {
   "cell_type": "code",
   "execution_count": 483,
   "id": "19bf8623",
   "metadata": {},
   "outputs": [
    {
     "ename": "TypeError",
     "evalue": "'numpy.ndarray' object is not callable",
     "output_type": "error",
     "traceback": [
      "\u001b[0;31m---------------------------------------------------------------------------\u001b[0m",
      "\u001b[0;31mTypeError\u001b[0m                                 Traceback (most recent call last)",
      "\u001b[0;32m<ipython-input-483-5059fe875581>\u001b[0m in \u001b[0;36m<module>\u001b[0;34m\u001b[0m\n\u001b[0;32m----> 1\u001b[0;31m \u001b[0mlen\u001b[0m\u001b[0;34m(\u001b[0m\u001b[0mrel\u001b[0m\u001b[0;34m(\u001b[0m\u001b[0malls\u001b[0m\u001b[0;34m,\u001b[0m \u001b[0mbase\u001b[0m\u001b[0;34m)\u001b[0m\u001b[0;34m)\u001b[0m\u001b[0;34m\u001b[0m\u001b[0;34m\u001b[0m\u001b[0m\n\u001b[0m",
      "\u001b[0;31mTypeError\u001b[0m: 'numpy.ndarray' object is not callable"
     ]
    }
   ],
   "source": [
    "len(rel(alls, base))"
   ]
  },
  {
   "cell_type": "code",
   "execution_count": 515,
   "id": "2b555134",
   "metadata": {},
   "outputs": [
    {
     "data": {
      "text/plain": [
       "76"
      ]
     },
     "execution_count": 515,
     "metadata": {},
     "output_type": "execute_result"
    }
   ],
   "source": [
    "base"
   ]
  },
  {
   "cell_type": "code",
   "execution_count": 519,
   "id": "9391d164",
   "metadata": {},
   "outputs": [
    {
     "name": "stdout",
     "output_type": "stream",
     "text": [
      "[[ 686  422  578]\n",
      " [ 605  423  415]\n",
      " [ 515  917 -361]\n",
      " [-336  658  858]\n",
      " [  95  138   22]\n",
      " [-476  619  847]\n",
      " [-340 -569 -846]\n",
      " [ 567 -361  727]\n",
      " [-460  603 -452]\n",
      " [ 669 -402  600]\n",
      " [ 729  430  532]\n",
      " [-500 -761  534]\n",
      " [-322  571  750]\n",
      " [-466 -666 -811]\n",
      " [-429 -592  574]\n",
      " [-355  545 -477]\n",
      " [ 703 -491 -529]\n",
      " [-328 -685  520]\n",
      " [ 413  935 -424]\n",
      " [-391  539 -444]\n",
      " [ 586 -435  557]\n",
      " [-364 -763 -893]\n",
      " [ 807 -499 -711]\n",
      " [ 755 -354 -619]\n",
      " [ 553  889 -390]]\n",
      "-336\n",
      "[[  -86  -236  -280]\n",
      " [  -87  -235  -443]\n",
      " [ -581   259 -1219]\n",
      " [ -322     0     0]\n",
      " [  198  -520  -836]\n",
      " [ -283   -39   -11]\n",
      " [  905 -1227 -1704]\n",
      " [  697 -1019  -131]\n",
      " [ -267   -55 -1310]\n",
      " [  738 -1060  -258]\n",
      " [  -94  -228  -326]\n",
      " [ 1097 -1419  -324]\n",
      " [ -235   -87  -108]\n",
      " [ 1002 -1324 -1669]\n",
      " [  928 -1250  -284]\n",
      " [ -209  -113 -1335]\n",
      " [  827 -1149 -1387]\n",
      " [ 1021 -1343  -338]\n",
      " [ -599   277 -1282]\n",
      " [ -203  -119 -1302]\n",
      " [  771 -1093  -301]\n",
      " [ 1099 -1421 -1751]\n",
      " [  835 -1157 -1569]\n",
      " [  690 -1012 -1477]\n",
      " [ -553   231 -1248]]\n",
      "[[  318  -824 -1181]\n",
      " [  317  -823 -1344]\n",
      " [ -177  -329 -2120]\n",
      " [   82  -588  -901]\n",
      " [  602 -1108 -1737]\n",
      " [  121  -627  -912]\n",
      " [ 1309 -1815 -2605]\n",
      " [ 1101 -1607 -1032]\n",
      " [  137  -643 -2211]\n",
      " [ 1142 -1648 -1159]\n",
      " [  310  -816 -1227]\n",
      " [ 1501 -2007 -1225]\n",
      " [  169  -675 -1009]\n",
      " [ 1406 -1912 -2570]\n",
      " [ 1332 -1838 -1185]\n",
      " [  195  -701 -2236]\n",
      " [ 1231 -1737 -2288]\n",
      " [ 1425 -1931 -1239]\n",
      " [ -195  -311 -2183]\n",
      " [  201  -707 -2203]\n",
      " [ 1175 -1681 -1202]\n",
      " [ 1503 -2009 -2652]\n",
      " [ 1239 -1745 -2470]\n",
      " [ 1094 -1600 -2378]\n",
      " [ -149  -357 -2149]]\n"
     ]
    }
   ],
   "source": [
    "rel = dochange(copy.deepcopy(alls[1]), copy.deepcopy(base[1]), copy.deepcopy(base))"
   ]
  },
  {
   "cell_type": "code",
   "execution_count": 495,
   "id": "59eeda77",
   "metadata": {},
   "outputs": [
    {
     "data": {
      "text/plain": [
       "[array([  318,  -824, -1181]),\n",
       " array([  317,  -823, -1344]),\n",
       " array([ -177,  -329, -2120]),\n",
       " array([  82, -588, -901]),\n",
       " array([ 121, -627, -912]),\n",
       " array([  137,  -643, -2211]),\n",
       " array([  310,  -816, -1227]),\n",
       " array([  169,  -675, -1009]),\n",
       " array([  195,  -701, -2236]),\n",
       " array([ -195,  -311, -2183]),\n",
       " array([  201,  -707, -2203]),\n",
       " array([ -149,  -357, -2149])]"
      ]
     },
     "execution_count": 495,
     "metadata": {},
     "output_type": "execute_result"
    }
   ],
   "source": [
    "[x for x in rel if x in alls[0]]"
   ]
  },
  {
   "cell_type": "code",
   "execution_count": 496,
   "id": "f9ddeb83",
   "metadata": {},
   "outputs": [
    {
     "data": {
      "text/plain": [
       "array([[  318,  -824, -1181],\n",
       "       [  317,  -823, -1344],\n",
       "       [ -177,  -329, -2120],\n",
       "       [   82,  -588,  -901],\n",
       "       [  602, -1108, -1737],\n",
       "       [  121,  -627,  -912],\n",
       "       [ 1309, -1815, -2605],\n",
       "       [ 1101, -1607, -1032],\n",
       "       [  137,  -643, -2211],\n",
       "       [ 1142, -1648, -1159],\n",
       "       [  310,  -816, -1227],\n",
       "       [ 1501, -2007, -1225],\n",
       "       [  169,  -675, -1009],\n",
       "       [ 1406, -1912, -2570],\n",
       "       [ 1332, -1838, -1185],\n",
       "       [  195,  -701, -2236],\n",
       "       [ 1231, -1737, -2288],\n",
       "       [ 1425, -1931, -1239],\n",
       "       [ -195,  -311, -2183],\n",
       "       [  201,  -707, -2203],\n",
       "       [ 1175, -1681, -1202],\n",
       "       [ 1503, -2009, -2652],\n",
       "       [ 1239, -1745, -2470],\n",
       "       [ 1094, -1600, -2378],\n",
       "       [ -149,  -357, -2149]])"
      ]
     },
     "execution_count": 496,
     "metadata": {},
     "output_type": "execute_result"
    }
   ],
   "source": [
    "rel"
   ]
  },
  {
   "cell_type": "code",
   "execution_count": null,
   "id": "2206bbcc",
   "metadata": {},
   "outputs": [],
   "source": []
  }
 ],
 "metadata": {
  "kernelspec": {
   "display_name": "Python 3",
   "language": "python",
   "name": "python3"
  },
  "language_info": {
   "codemirror_mode": {
    "name": "ipython",
    "version": 3
   },
   "file_extension": ".py",
   "mimetype": "text/x-python",
   "name": "python",
   "nbconvert_exporter": "python",
   "pygments_lexer": "ipython3",
   "version": "3.8.8"
  }
 },
 "nbformat": 4,
 "nbformat_minor": 5
}
