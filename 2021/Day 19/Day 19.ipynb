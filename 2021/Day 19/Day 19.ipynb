{
 "cells": [
  {
   "cell_type": "code",
   "execution_count": 83,
   "id": "2409205f",
   "metadata": {},
   "outputs": [],
   "source": [
    "def compare(alls):\n",
    "    count = 0\n",
    "    connect = {0:0}\n",
    "#     connect = {0: 0,\n",
    "#  22: [0, np.array([ 776, -791,  349]), np.array([839, 524, 460]), 9],\n",
    "#  26: [22, np.array([-397,  770, -682]), np.array([ 807,  733, -584]), 12],\n",
    "#  24: [22, np.array([500, 577, 375]), np.array([ 525,  657, -787]), 9],\n",
    "#  8: [24, np.array([ 664,  503, -669]), np.array([ 563, -756, -620]), 3]}\n",
    "    done = []\n",
    "    while len(connect) < len(alls):\n",
    "        for m in range(len(alls)):\n",
    "            if m in connect and m not in done:\n",
    "                print(m)\n",
    "                done.append(m)\n",
    "                base = copy.deepcopy(alls[m])\n",
    "\n",
    "                for i in range(len(base)):\n",
    "\n",
    "                    base[:,0] -= base[i][0]\n",
    "                    base[:,1] -= base[i][1]\n",
    "                    base[:,2] -= base[i][2]\n",
    "                    for j in range(len(alls)):\n",
    "                        if j not in connect and j != m:\n",
    "\n",
    "                            k = 0\n",
    "                            while k < len(alls[j]):\n",
    "                                l = 0\n",
    "\n",
    "                                while l < 24:\n",
    "                                    current = copy.deepcopy(alls[j])\n",
    "                                    current = cycle(current, l)\n",
    "\n",
    "                                    temp = copy.deepcopy(current[k])\n",
    "                                    current[:,0] -= temp[0]\n",
    "                                    current[:,1] -= temp[1]\n",
    "                                    current[:,2] -= temp[2]\n",
    "\n",
    "                                    if len([x for x in current if list(x) in [list(y) for y in base]]) >= 12:\n",
    "                                        connect[j] = [m, alls[m][i], temp, l]\n",
    "                                        count += 1\n",
    "                                        k=len(current)\n",
    "                                        l=24\n",
    "                                    l += 1\n",
    "                                k += 1\n",
    "\n",
    "    return(connect)"
   ]
  },
  {
   "cell_type": "code",
   "execution_count": 34,
   "id": "9b0e60a3",
   "metadata": {},
   "outputs": [],
   "source": [
    "import copy\n",
    "def cycle(single, num):\n",
    "    if num%6 == 1:\n",
    "        temp = copy.deepcopy(single[:,0])\n",
    "        single[:,0] = -single[:,1]\n",
    "        single[:,1] = temp\n",
    "    elif num%6 == 2:\n",
    "        single[:,0] = -single[:,0]\n",
    "        single[:,1] = -single[:,1]\n",
    "    elif num%6 == 3:\n",
    "        temp = copy.deepcopy(single[:,0])\n",
    "        single[:,0] = single[:,1]\n",
    "        single[:,1] = -temp\n",
    "    elif num%6 == 4:\n",
    "        temp = copy.deepcopy(single[:,0])\n",
    "        single[:,0] = -single[:,2]\n",
    "        single[:,2] = temp\n",
    "    elif num%6 == 5:\n",
    "        temp = copy.deepcopy(single[:,0])\n",
    "        single[:,0] = single[:,2]\n",
    "        single[:,2] = -temp\n",
    "    \n",
    "    num = int(num/6)\n",
    "    if num == 1:\n",
    "        temp = copy.deepcopy(single[:,1])\n",
    "        single[:,1] = -single[:,2]\n",
    "        single[:,2] = temp\n",
    "    elif num == 2:\n",
    "        single[:,1] = -single[:,1]\n",
    "        single[:,2] = -single[:,2]\n",
    "    elif num == 3:\n",
    "        temp = copy.deepcopy(single[:,1])\n",
    "        single[:,1] = single[:,2]\n",
    "        single[:,2] = -temp \n",
    "    \n",
    "    return(single)"
   ]
  },
  {
   "cell_type": "code",
   "execution_count": 35,
   "id": "88fc29d0",
   "metadata": {},
   "outputs": [],
   "source": [
    "def dochange(single, instr, connect):\n",
    "    add = copy.deepcopy(instr[1])\n",
    "    sub = copy.deepcopy(instr[2])\n",
    "    \n",
    "    cycle(single, instr[3])\n",
    "    single[:,0] -= sub[0]\n",
    "    single[:,1] -= sub[1]\n",
    "    single[:,2] -= sub[2]\n",
    "    \n",
    "    single[:,0] += add[0]\n",
    "    single[:,1] += add[1]\n",
    "    single[:,2] += add[2]\n",
    "    \n",
    "    if instr[0] != 0:\n",
    "        single = dochange(copy.deepcopy(single), copy.deepcopy(connect[instr[0]]), copy.deepcopy(connect))\n",
    "    \n",
    "    return(single)"
   ]
  },
  {
   "cell_type": "code",
   "execution_count": 36,
   "id": "ad7771cc",
   "metadata": {},
   "outputs": [],
   "source": [
    "def rel(alls, compare):\n",
    "    relit = alls[0]\n",
    "    for i in compare:\n",
    "        if i!= 0:\n",
    "            relit = np.vstack((relit, np.array([x for x in dochange(copy.deepcopy(alls[i]), copy.deepcopy(compare[i]), copy.deepcopy(compare)) if list(x) not in [list(y) for y in relit]])))\n",
    "  \n",
    "    return(relit)"
   ]
  },
  {
   "cell_type": "code",
   "execution_count": 84,
   "id": "5d8c8aa0",
   "metadata": {},
   "outputs": [
    {
     "name": "stdout",
     "output_type": "stream",
     "text": [
      "0\n",
      "1\n",
      "3\n",
      "4\n"
     ]
    }
   ],
   "source": [
    "import numpy as np\n",
    "\n",
    "with open('input1.txt') as f:\n",
    "    lines = f.read().splitlines()\n",
    "    \n",
    "alls = []\n",
    "\n",
    "for i in lines:\n",
    "    if i == '':\n",
    "        alls[-1] = np.array(alls[-1])\n",
    "    elif i[1] == '-':\n",
    "        alls.append([])\n",
    "    else:\n",
    "        alls[-1].append(list(map(int, list(i.split(',')))))\n",
    "alls[-1] = np.array(alls[-1])\n",
    "\n",
    "base = compare(alls)"
   ]
  },
  {
   "cell_type": "code",
   "execution_count": 85,
   "id": "19bf8623",
   "metadata": {},
   "outputs": [
    {
     "data": {
      "text/plain": [
       "79"
      ]
     },
     "execution_count": 85,
     "metadata": {},
     "output_type": "execute_result"
    }
   ],
   "source": [
    "len(rel(copy.deepcopy(alls), copy.deepcopy(base)))"
   ]
  },
  {
   "cell_type": "code",
   "execution_count": 100,
   "id": "ef21e80b",
   "metadata": {},
   "outputs": [],
   "source": [
    "maxim = 0\n",
    "\n",
    "for i in range(1,len(base)):\n",
    "    maxim = max(maxim, np.sum(np.abs(dochange(np.array([[0,0,0]]), copy.deepcopy(base[i]), copy.deepcopy(base)))))"
   ]
  }
 ],
 "metadata": {
  "kernelspec": {
   "display_name": "Python 3",
   "language": "python",
   "name": "python3"
  },
  "language_info": {
   "codemirror_mode": {
    "name": "ipython",
    "version": 3
   },
   "file_extension": ".py",
   "mimetype": "text/x-python",
   "name": "python",
   "nbconvert_exporter": "python",
   "pygments_lexer": "ipython3",
   "version": "3.8.8"
  }
 },
 "nbformat": 4,
 "nbformat_minor": 5
}
