{
 "cells": [
  {
   "cell_type": "code",
   "execution_count": 103,
   "id": "b56e3133",
   "metadata": {},
   "outputs": [],
   "source": [
    "with open('input1.txt') as f:\n",
    "    lines = f.read().splitlines()"
   ]
  },
  {
   "cell_type": "code",
   "execution_count": 104,
   "id": "c92995be",
   "metadata": {},
   "outputs": [],
   "source": [
    "connect = {}\n",
    "for i in lines:\n",
    "    split = i.split('-')\n",
    "    if not split[0] in connect:\n",
    "        connect[split[0]] = []\n",
    "    if not split[1] in connect:\n",
    "        connect[split[1]] = []    \n",
    "        \n",
    "    connect[split[0]].append(split[1])\n",
    "    connect[split[1]].append(split[0])"
   ]
  },
  {
   "cell_type": "code",
   "execution_count": 105,
   "id": "75ea8561",
   "metadata": {},
   "outputs": [],
   "source": [
    "def nextstep(connect, done, current, count, double):\n",
    "    if double != -1:\n",
    "        selection = [x for x in connect[current] if x not in [y.lower() for y in done]]\n",
    "    else:\n",
    "        selection = [x for x in connect[current] if x not in ['start']]\n",
    "    if selection != []:\n",
    "        for i in selection:\n",
    "            if i == 'end':\n",
    "                count += 1\n",
    "            else:\n",
    "                if i in [y.lower() for y in done]:\n",
    "                    double = i\n",
    "                done.append(i)\n",
    "                current = i\n",
    "                done, current, count, double = nextstep(connect, done, current, count, double)\n",
    "\n",
    "    if len(done) > 1:\n",
    "        if done[-1] == double:\n",
    "            double = -1\n",
    "        done.pop(-1)\n",
    "        current = done[-1]\n",
    "    return(done, current, count, double)"
   ]
  },
  {
   "cell_type": "code",
   "execution_count": 106,
   "id": "a433cc4e",
   "metadata": {},
   "outputs": [
    {
     "data": {
      "text/plain": [
       "137948"
      ]
     },
     "execution_count": 106,
     "metadata": {},
     "output_type": "execute_result"
    }
   ],
   "source": [
    "current = 'start'\n",
    "done = ['start']\n",
    "depth = 0\n",
    "count = 0\n",
    "double = -1\n",
    "nextstep(connect, done, current, count, double)[2]"
   ]
  },
  {
   "cell_type": "code",
   "execution_count": 83,
   "id": "0f7f4379",
   "metadata": {},
   "outputs": [],
   "source": [
    "z = ['A', 'b', 'c']"
   ]
  },
  {
   "cell_type": "code",
   "execution_count": 84,
   "id": "9b8f340c",
   "metadata": {},
   "outputs": [
    {
     "data": {
      "text/plain": [
       "1"
      ]
     },
     "execution_count": 84,
     "metadata": {},
     "output_type": "execute_result"
    }
   ],
   "source": [
    "z.count('b')"
   ]
  },
  {
   "cell_type": "code",
   "execution_count": null,
   "id": "55708b27",
   "metadata": {},
   "outputs": [],
   "source": []
  }
 ],
 "metadata": {
  "kernelspec": {
   "display_name": "Python 3",
   "language": "python",
   "name": "python3"
  },
  "language_info": {
   "codemirror_mode": {
    "name": "ipython",
    "version": 3
   },
   "file_extension": ".py",
   "mimetype": "text/x-python",
   "name": "python",
   "nbconvert_exporter": "python",
   "pygments_lexer": "ipython3",
   "version": "3.8.8"
  }
 },
 "nbformat": 4,
 "nbformat_minor": 5
}
