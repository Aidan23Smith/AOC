{
 "cells": [
  {
   "cell_type": "code",
   "execution_count": null,
   "id": "26453f97",
   "metadata": {},
   "outputs": [],
   "source": []
  },
  {
   "cell_type": "code",
   "execution_count": 1,
   "id": "1d957c84",
   "metadata": {},
   "outputs": [
    {
     "name": "stdout",
     "output_type": "stream",
     "text": [
      "on x=-5..47,y=-31..22,z=-19..33\n",
      "on x=-44..5,y=-27..21,z=-14..35\n",
      "on x=-49..-1,y=-11..42,z=-10..38\n",
      "on x=-20..34,y=-40..6,z=-44..1\n",
      "off x=26..39,y=40..50,z=-2..11\n",
      "on x=-41..5,y=-41..6,z=-36..8\n",
      "off x=-43..-33,y=-45..-28,z=7..25\n",
      "on x=-33..15,y=-32..19,z=-34..11\n",
      "off x=35..47,y=-46..-34,z=-11..5\n",
      "on x=-14..36,y=-6..44,z=-16..29\n",
      "on x=-57795..-6158,y=29564..72030,z=20435..90618\n"
     ]
    },
    {
     "ename": "KeyboardInterrupt",
     "evalue": "",
     "output_type": "error",
     "traceback": [
      "\u001b[0;31m---------------------------------------------------------------------------\u001b[0m",
      "\u001b[0;31mKeyboardInterrupt\u001b[0m                         Traceback (most recent call last)",
      "\u001b[0;32m<ipython-input-1-097497bda1a3>\u001b[0m in \u001b[0;36m<module>\u001b[0;34m\u001b[0m\n\u001b[1;32m     32\u001b[0m         \u001b[0;32mfor\u001b[0m \u001b[0my\u001b[0m \u001b[0;32min\u001b[0m \u001b[0mrange\u001b[0m\u001b[0;34m(\u001b[0m\u001b[0mymin\u001b[0m\u001b[0;34m,\u001b[0m \u001b[0mymax\u001b[0m\u001b[0;34m+\u001b[0m\u001b[0;36m1\u001b[0m\u001b[0;34m)\u001b[0m\u001b[0;34m:\u001b[0m\u001b[0;34m\u001b[0m\u001b[0;34m\u001b[0m\u001b[0m\n\u001b[1;32m     33\u001b[0m             \u001b[0;32mfor\u001b[0m \u001b[0mz\u001b[0m \u001b[0;32min\u001b[0m \u001b[0mrange\u001b[0m\u001b[0;34m(\u001b[0m\u001b[0mzmin\u001b[0m\u001b[0;34m,\u001b[0m \u001b[0mzmax\u001b[0m\u001b[0;34m+\u001b[0m\u001b[0;36m1\u001b[0m\u001b[0;34m)\u001b[0m\u001b[0;34m:\u001b[0m\u001b[0;34m\u001b[0m\u001b[0;34m\u001b[0m\u001b[0m\n\u001b[0;32m---> 34\u001b[0;31m                 \u001b[0mres\u001b[0m\u001b[0;34m[\u001b[0m\u001b[0mstr\u001b[0m\u001b[0;34m(\u001b[0m\u001b[0;34m[\u001b[0m\u001b[0mx\u001b[0m\u001b[0;34m,\u001b[0m \u001b[0my\u001b[0m\u001b[0;34m,\u001b[0m \u001b[0mz\u001b[0m\u001b[0;34m]\u001b[0m\u001b[0;34m)\u001b[0m\u001b[0;34m]\u001b[0m \u001b[0;34m=\u001b[0m \u001b[0minstr\u001b[0m\u001b[0;34m\u001b[0m\u001b[0;34m\u001b[0m\u001b[0m\n\u001b[0m\u001b[1;32m     35\u001b[0m \u001b[0msum\u001b[0m\u001b[0;34m(\u001b[0m\u001b[0mres\u001b[0m\u001b[0;34m.\u001b[0m\u001b[0mvalues\u001b[0m\u001b[0;34m(\u001b[0m\u001b[0;34m)\u001b[0m\u001b[0;34m)\u001b[0m\u001b[0;34m\u001b[0m\u001b[0;34m\u001b[0m\u001b[0m\n",
      "\u001b[0;31mKeyboardInterrupt\u001b[0m: "
     ]
    }
   ],
   "source": [
    "with open('input1.txt') as f:\n",
    "    lines = f.read().splitlines()\n",
    "\n",
    "onoff = {'on': 1, 'off': 0}\n",
    "res = {}\n",
    "\n",
    "for i in lines:\n",
    "    print(i)\n",
    "    temp = i.split()\n",
    "    instr = onoff[temp[0]]\n",
    "    \n",
    "    temp = temp[1].split(',')\n",
    "    xmin = int(temp[0].split('=')[1].split('..')[0])\n",
    "    xmax = int(temp[0].split('=')[1].split('..')[1])\n",
    "    \n",
    "    ymin = int(temp[1].split('=')[1].split('..')[0])\n",
    "    ymax = int(temp[1].split('=')[1].split('..')[1])\n",
    "    \n",
    "    zmin = int(temp[2].split('=')[1].split('..')[0])\n",
    "    zmax = int(temp[2].split('=')[1].split('..')[1])\n",
    "    \n",
    "#     xmin = max(int(temp[0].split('=')[1].split('..')[0]), -50)\n",
    "#     xmax = min(int(temp[0].split('=')[1].split('..')[1]), 50)\n",
    "    \n",
    "#     ymin = max(int(temp[1].split('=')[1].split('..')[0]), -50)\n",
    "#     ymax = min(int(temp[1].split('=')[1].split('..')[1]), 50)\n",
    "    \n",
    "#     zmin = max(int(temp[2].split('=')[1].split('..')[0]), -50)\n",
    "#     zmax = min(int(temp[2].split('=')[1].split('..')[1]), 50)\n",
    "    \n",
    "    for x in range(xmin, xmax+1):\n",
    "        for y in range(ymin, ymax+1):\n",
    "            for z in range(zmin, zmax+1):\n",
    "                res[str([x, y, z])] = instr\n",
    "sum(res.values())"
   ]
  },
  {
   "cell_type": "code",
   "execution_count": 254,
   "id": "b5bd68a4",
   "metadata": {},
   "outputs": [],
   "source": [
    "with open('input1.txt') as f:\n",
    "    lines = f.read().splitlines()\n",
    "\n",
    "onoff = {'on': 1, 'off': -1}\n",
    "res = {}\n",
    "cubes = []\n",
    "\n",
    "for i in lines:\n",
    "    temp = i.split()\n",
    "    instr = onoff[temp[0]]\n",
    "    \n",
    "    temp = temp[1].split(',')\n",
    "    xmin = int(temp[0].split('=')[1].split('..')[0])\n",
    "    xmax = int(temp[0].split('=')[1].split('..')[1])\n",
    "    \n",
    "    ymin = int(temp[1].split('=')[1].split('..')[0])\n",
    "    ymax = int(temp[1].split('=')[1].split('..')[1])\n",
    "    \n",
    "    zmin = int(temp[2].split('=')[1].split('..')[0])\n",
    "    zmax = int(temp[2].split('=')[1].split('..')[1])\n",
    "    \n",
    "    cubes.append([[xmin, xmax, ymin, ymax, zmin, zmax], instr])"
   ]
  },
  {
   "cell_type": "code",
   "execution_count": 255,
   "id": "2acafd67",
   "metadata": {},
   "outputs": [],
   "source": [
    "import copy\n",
    "def pt2(cubes):\n",
    "    vert = [0,0,0,0,0,0]\n",
    "    new = []\n",
    "    inter = []\n",
    "    for i in cubes:\n",
    "        inter = []\n",
    "        for j in new:\n",
    "            \n",
    "            cross = True\n",
    "            for k in range(6):\n",
    "                if cross:\n",
    "                    if not k%2:\n",
    "                        vert[k] = max(i[0][k], j[0][k])\n",
    "                    else:\n",
    "                        vert[k] = min(i[0][k], j[0][k])\n",
    "                        if vert[k]<vert[k-1]:\n",
    "                            cross = False\n",
    "            if cross:\n",
    "                inter.append(copy.deepcopy([vert, -j[1]]))\n",
    "        if i[1] == 1:\n",
    "            new.append(i)\n",
    "        if inter != []:\n",
    "            new += inter\n",
    "    \n",
    "    vol = 0\n",
    "    for i in new:\n",
    "        vol += i[1]*(i[0][1]-i[0][0]+1)*(i[0][3]-i[0][2]+1)*(i[0][5]-i[0][4]+1)\n",
    "        \n",
    "    return(vol)"
   ]
  },
  {
   "cell_type": "code",
   "execution_count": 256,
   "id": "7432b9e3",
   "metadata": {},
   "outputs": [
    {
     "data": {
      "text/plain": [
       "1302784472088899"
      ]
     },
     "execution_count": 256,
     "metadata": {},
     "output_type": "execute_result"
    }
   ],
   "source": [
    "pt2(cubes)"
   ]
  },
  {
   "cell_type": "code",
   "execution_count": null,
   "id": "d7910c98",
   "metadata": {},
   "outputs": [],
   "source": []
  }
 ],
 "metadata": {
  "kernelspec": {
   "display_name": "Python 3",
   "language": "python",
   "name": "python3"
  },
  "language_info": {
   "codemirror_mode": {
    "name": "ipython",
    "version": 3
   },
   "file_extension": ".py",
   "mimetype": "text/x-python",
   "name": "python",
   "nbconvert_exporter": "python",
   "pygments_lexer": "ipython3",
   "version": "3.8.8"
  }
 },
 "nbformat": 4,
 "nbformat_minor": 5
}
