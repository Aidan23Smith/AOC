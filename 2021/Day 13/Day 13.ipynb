{
 "cells": [
  {
   "cell_type": "code",
   "execution_count": 119,
   "id": "ddf2c018",
   "metadata": {},
   "outputs": [],
   "source": [
    "with open('input1.txt') as f:\n",
    "    lines = f.read().splitlines()"
   ]
  },
  {
   "cell_type": "code",
   "execution_count": 120,
   "id": "a5835e5b",
   "metadata": {},
   "outputs": [],
   "source": [
    "import numpy as np\n",
    "gap = True\n",
    "x,y = [],[]\n",
    "instr = []\n",
    "\n",
    "for i in lines:\n",
    "    if i == '':\n",
    "        gap = False  \n",
    "    elif gap:\n",
    "        x.append(int(i.split(',')[0]))\n",
    "        y.append(int(i.split(',')[1]))\n",
    "    else:\n",
    "        instr.append(i.split('along ')[1])\n",
    "\n",
    "x = np.array(x)\n",
    "y = np.array(y)"
   ]
  },
  {
   "cell_type": "code",
   "execution_count": 121,
   "id": "85da7a89",
   "metadata": {},
   "outputs": [],
   "source": [
    "def fold(coord, num):\n",
    "    return(num - np.abs(coord - num))"
   ]
  },
  {
   "cell_type": "code",
   "execution_count": 122,
   "id": "b6c3247b",
   "metadata": {},
   "outputs": [
    {
     "name": "stdout",
     "output_type": "stream",
     "text": [
      "98\n"
     ]
    }
   ],
   "source": [
    "for i in instr:\n",
    "    if i[0] == 'x':\n",
    "        x = fold(x, int(i[2:]))\n",
    "    else:\n",
    "        y = fold(y, int(i[2:]))\n",
    "\n",
    "res = []\n",
    "for i in range(len(x)):\n",
    "    if [x[i], y[i]] not in res:\n",
    "        res.append([x[i], y[i]])\n",
    "\n",
    "print(len(res))"
   ]
  },
  {
   "cell_type": "code",
   "execution_count": 118,
   "id": "d6d65289",
   "metadata": {},
   "outputs": [
    {
     "name": "stdout",
     "output_type": "stream",
     "text": [
      "765\n"
     ]
    }
   ],
   "source": [
    "if instr[0][0] == 'x':\n",
    "    x = fold(x, int(instr[0][2:]))\n",
    "else:\n",
    "    y = fold(y, int(instr[0][2:]))\n",
    "\n",
    "res = []\n",
    "for i in range(len(x)):\n",
    "    if [x[i], y[i]] not in res:\n",
    "        res.append([x[i], y[i]])\n",
    "\n",
    "print(len(res))"
   ]
  },
  {
   "cell_type": "code",
   "execution_count": 131,
   "id": "ed490382",
   "metadata": {},
   "outputs": [
    {
     "data": {
      "text/plain": [
       "<matplotlib.collections.PathCollection at 0x7f96a64a9970>"
      ]
     },
     "execution_count": 131,
     "metadata": {},
     "output_type": "execute_result"
    },
    {
     "data": {
      "image/png": "[encoded data removed]",
      "text/plain": [
       "<Figure size 1440x360 with 1 Axes>"
      ]
     },
     "metadata": {
      "needs_background": "light"
     },
     "output_type": "display_data"
    }
   ],
   "source": [
    "import matplotlib.pyplot as plt\n",
    "\n",
    "fig, ax = plt.subplots( figsize = (20,5))\n",
    "ax.scatter(x, 5-y)"
   ]
  },
  {
   "cell_type": "code",
   "execution_count": null,
   "id": "e28da0d5",
   "metadata": {},
   "outputs": [],
   "source": []
  }
 ],
 "metadata": {
  "kernelspec": {
   "display_name": "Python 3",
   "language": "python",
   "name": "python3"
  },
  "language_info": {
   "codemirror_mode": {
    "name": "ipython",
    "version": 3
   },
   "file_extension": ".py",
   "mimetype": "text/x-python",
   "name": "python",
   "nbconvert_exporter": "python",
   "pygments_lexer": "ipython3",
   "version": "3.8.8"
  }
 },
 "nbformat": 4,
 "nbformat_minor": 5
}
