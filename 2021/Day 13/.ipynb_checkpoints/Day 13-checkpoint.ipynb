{
 "cells": [
  {
   "cell_type": "code",
   "execution_count": 85,
   "id": "8edd2a2e",
   "metadata": {},
   "outputs": [],
   "source": [
    "with open('input1.txt') as f:\n",
    "    lines = f.read().splitlines()"
   ]
  },
  {
   "cell_type": "code",
   "execution_count": 86,
   "id": "564494b8",
   "metadata": {},
   "outputs": [],
   "source": [
    "import numpy as np\n",
    "gap = True\n",
    "x,y = [],[]\n",
    "instr = []\n",
    "\n",
    "for i in lines:\n",
    "    if i == '':\n",
    "        gap = False  \n",
    "    elif gap:\n",
    "        x.append(int(i.split(',')[0]))\n",
    "        y.append(int(i.split(',')[1]))\n",
    "    else:\n",
    "        instr.append(i.split('along ')[1])\n",
    "\n",
    "x = np.array(x)\n",
    "y = np.array(y)"
   ]
  },
  {
   "cell_type": "code",
   "execution_count": 87,
   "id": "98a77821",
   "metadata": {},
   "outputs": [],
   "source": [
    "def fold(coord, num):\n",
    "    return(num - np.abs(coord - num))"
   ]
  },
  {
   "cell_type": "code",
   "execution_count": 88,
   "id": "e8af6ba5",
   "metadata": {},
   "outputs": [
    {
     "name": "stdout",
     "output_type": "stream",
     "text": [
      "16\n"
     ]
    }
   ],
   "source": [
    "for i in instr:\n",
    "    if i[0] == 'x':\n",
    "        #x = fold(x, int(i[2:]))\n",
    "        1==1\n",
    "    else:\n",
    "        y = fold(y, int(i[2:]))\n",
    "\n",
    "res = []\n",
    "for i in range(len(x)):\n",
    "    if [x[i], y[i]] not in res:\n",
    "        res.append([x[i], y[i]])\n",
    "\n",
    "print(len(res))"
   ]
  },
  {
   "cell_type": "code",
   "execution_count": 84,
   "id": "13e154a3",
   "metadata": {},
   "outputs": [
    {
     "data": {
      "text/plain": [
       "[[6, 4],\n",
       " [0, 0],\n",
       " [9, 4],\n",
       " [0, 3],\n",
       " [10, 4],\n",
       " [4, 3],\n",
       " [6, 0],\n",
       " [6, 2],\n",
       " [4, 1],\n",
       " [0, 1],\n",
       " [10, 2],\n",
       " [3, 4],\n",
       " [3, 0],\n",
       " [8, 4],\n",
       " [1, 4],\n",
       " [2, 0],\n",
       " [9, 0]]"
      ]
     },
     "execution_count": 84,
     "metadata": {},
     "output_type": "execute_result"
    }
   ],
   "source": [
    "res"
   ]
  },
  {
   "cell_type": "code",
   "execution_count": null,
   "id": "d18ffafc",
   "metadata": {},
   "outputs": [],
   "source": []
  }
 ],
 "metadata": {
  "kernelspec": {
   "display_name": "Python 3",
   "language": "python",
   "name": "python3"
  },
  "language_info": {
   "codemirror_mode": {
    "name": "ipython",
    "version": 3
   },
   "file_extension": ".py",
   "mimetype": "text/x-python",
   "name": "python",
   "nbconvert_exporter": "python",
   "pygments_lexer": "ipython3",
   "version": "3.8.8"
  }
 },
 "nbformat": 4,
 "nbformat_minor": 5
}
