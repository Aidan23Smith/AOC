{
 "cells": [
  {
   "cell_type": "code",
   "execution_count": 71,
   "id": "9fe99614",
   "metadata": {},
   "outputs": [],
   "source": [
    "def findleast(r, done):\n",
    "    poss = []\n",
    "    minim = float('inf')\n",
    "    for i in range(4):\n",
    "        if i not in done:\n",
    "            curr = r[i][0]\n",
    "            if curr == -1:\n",
    "                curr = r[i][0]\n",
    "            if curr == -1:\n",
    "                curr = float('inf')\n",
    "            if curr < minim:\n",
    "                res = i\n",
    "                minim = curr\n",
    "    return(res)"
   ]
  },
  {
   "cell_type": "code",
   "execution_count": 164,
   "id": "bfcb4288",
   "metadata": {},
   "outputs": [],
   "source": [
    "import copy\n",
    "def order(r):\n",
    "    which = []\n",
    "    done = []\n",
    "    temp = copy.deepcopy(r)\n",
    "    \n",
    "    for i in range(8):\n",
    "        which.append(findleast(temp, done))\n",
    "        if len(temp[which[-1]]) == 2:\n",
    "            temp[which[-1]] = [temp[which[-1]][1]]\n",
    "        else:\n",
    "            done.append(which[-1])\n",
    "    return(which)"
   ]
  },
  {
   "cell_type": "code",
   "execution_count": 165,
   "id": "4c886790",
   "metadata": {},
   "outputs": [],
   "source": [
    "def cost(value, dist):\n",
    "    return(dist*10**value)"
   ]
  },
  {
   "cell_type": "code",
   "execution_count": 166,
   "id": "b40a8e19",
   "metadata": {},
   "outputs": [],
   "source": [
    "def direction(r, which, count, curr, clear):\n",
    "    cval = r[which[curr]][count[which[curr]]]\n",
    "    \n",
    "    \n",
    "    if cval in clear:\n",
    "        if cval < which[curr]:\n",
    "            return(1)\n",
    "        else:\n",
    "            return(-1)\n",
    "    \n",
    "    nval = r[which[curr+1]][count[which[curr+1]]]\n",
    "    \n",
    "    if count[which[curr]] == 0:\n",
    "        if cval < nval:\n",
    "            return(-1)\n",
    "        elif cval > nval:\n",
    "            return(1)\n",
    "        else:\n",
    "            if which[curr]>cval:\n",
    "                return(-1)\n",
    "            else:\n",
    "                return(1)\n",
    "    \n",
    "    if which[curr]>cval:\n",
    "        return(-1)\n",
    "    else:\n",
    "        return(1)\n",
    "    "
   ]
  },
  {
   "cell_type": "code",
   "execution_count": 245,
   "id": "20161794",
   "metadata": {},
   "outputs": [],
   "source": [
    "def move(h, which, count, curr, clear, direc, total):\n",
    "    cval = r[which[curr]][count[which[curr]]]\n",
    "    cpos = 2+2*which[curr]\n",
    "    \n",
    "    if cval in clear:\n",
    "        dist = abs(cpos - (2+2*cval))\n",
    "        total += cost(cval, dist)\n",
    "        h[cpos] = -1\n",
    "    else:\n",
    "        dist = 0\n",
    "        h[cpos] = -1\n",
    "        while cpos*direc <= (2+2*cval)*direc:\n",
    "            cpos += direc\n",
    "            dist += 1\n",
    "            if h[cpos] != -1:\n",
    "                if cpos+direc in [2, 4, 6, 8]:\n",
    "                    h[cpos+2*direc] = h[cpos]\n",
    "                    total += cost(h[cpos], 2)\n",
    "                else:\n",
    "                    h[cpos+direc] = h[cpos]\n",
    "                    total += cost(h[cpos], 1)\n",
    "        total += cost(cval, dist)\n",
    "                    \n",
    "        h[cpos] = cval\n",
    "        \n",
    "    return(h, total)"
   ]
  },
  {
   "cell_type": "code",
   "execution_count": 246,
   "id": "c5accf18",
   "metadata": {},
   "outputs": [],
   "source": [
    "def toclear(h, cval, total):\n",
    "    cpos = h.index(cval)\n",
    "    \n",
    "    dist = abs(cpos - (2+2*cval))\n",
    "    total += cost(cval, dist)\n",
    "    h[cpos] = -1\n",
    "        \n",
    "    return(h, total)"
   ]
  },
  {
   "cell_type": "code",
   "execution_count": 254,
   "id": "46a6d427",
   "metadata": {},
   "outputs": [],
   "source": [
    "def startend(r):\n",
    "    total = 0\n",
    "    for i in r:\n",
    "        total += 10**i[0]\n",
    "        total += 2*10**i[1]\n",
    "    return(total+3333)"
   ]
  },
  {
   "cell_type": "code",
   "execution_count": 255,
   "id": "6af8c911",
   "metadata": {},
   "outputs": [],
   "source": [
    "def pt1(r, h):\n",
    "    which = order(r)\n",
    "    clear = []\n",
    "    count = [0,0,0,0]\n",
    "    total = startend(r)\n",
    "    \n",
    "    for i in range(len(which)):\n",
    "        h[2+2*which[i]] = r[which[i]][count[which[i]]]\n",
    "        direc = direction(r, which, count, i, clear)\n",
    "        h, total = move(h, which, count, i, clear, direc, total)\n",
    "        print(total)\n",
    "        count[which[i]] += 1\n",
    "        if count[which[i]] == 2:\n",
    "            clear.append(which[i])\n",
    "        for j in h:\n",
    "            if j in clear:\n",
    "                h, total = toclear(h, j, total)\n",
    "                print(total)\n",
    "    return(total)"
   ]
  },
  {
   "cell_type": "code",
   "execution_count": 256,
   "id": "70a93c6c",
   "metadata": {},
   "outputs": [],
   "source": [
    "with open('input1.txt') as f:\n",
    "    lines = f.read().splitlines()\n",
    "    diction = {'A':0, 'B':1, 'C':2, 'D':3}\n",
    "r=[[diction[lines[2][3]],diction[lines[3][3]]], [diction[lines[2][5]],diction[lines[3][5]]], [diction[lines[2][7]],diction[lines[3][7]]], [diction[lines[2][9]],diction[lines[3][9]]]]"
   ]
  },
  {
   "cell_type": "code",
   "execution_count": 257,
   "id": "ccaa5d77",
   "metadata": {},
   "outputs": [
    {
     "name": "stdout",
     "output_type": "stream",
     "text": [
      "6579\n",
      "6583\n",
      "6683\n",
      "6703\n",
      "6803\n",
      "7003\n",
      "7043\n",
      "13043\n",
      "19043\n",
      "19045\n",
      "19046\n"
     ]
    },
    {
     "data": {
      "text/plain": [
       "19046"
      ]
     },
     "execution_count": 257,
     "metadata": {},
     "output_type": "execute_result"
    }
   ],
   "source": [
    "pt1(r, [-1, -1, -1, -1, -1, -1, -1, -1, -1, -1, -1])"
   ]
  },
  {
   "cell_type": "code",
   "execution_count": 214,
   "id": "cdd86f8c",
   "metadata": {},
   "outputs": [
    {
     "data": {
      "text/plain": [
       "0"
      ]
     },
     "execution_count": 214,
     "metadata": {},
     "output_type": "execute_result"
    }
   ],
   "source": [
    "[1, 1, 3].index(1)"
   ]
  },
  {
   "cell_type": "code",
   "execution_count": 253,
   "id": "34a68650",
   "metadata": {},
   "outputs": [
    {
     "data": {
      "text/plain": [
       "3243"
      ]
     },
     "execution_count": 253,
     "metadata": {},
     "output_type": "execute_result"
    }
   ],
   "source": [
    "starter(r)"
   ]
  },
  {
   "cell_type": "code",
   "execution_count": null,
   "id": "4b6423fd",
   "metadata": {},
   "outputs": [],
   "source": []
  }
 ],
 "metadata": {
  "kernelspec": {
   "display_name": "Python 3",
   "language": "python",
   "name": "python3"
  },
  "language_info": {
   "codemirror_mode": {
    "name": "ipython",
    "version": 3
   },
   "file_extension": ".py",
   "mimetype": "text/x-python",
   "name": "python",
   "nbconvert_exporter": "python",
   "pygments_lexer": "ipython3",
   "version": "3.8.8"
  }
 },
 "nbformat": 4,
 "nbformat_minor": 5
}
