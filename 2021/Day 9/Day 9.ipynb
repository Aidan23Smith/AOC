{
 "cells": [
  {
   "cell_type": "code",
   "execution_count": 49,
   "id": "2028791a",
   "metadata": {},
   "outputs": [],
   "source": [
    "with open('input1.txt') as f:\n",
    "    lines = f.read().splitlines()"
   ]
  },
  {
   "cell_type": "code",
   "execution_count": 50,
   "id": "84bb2649",
   "metadata": {},
   "outputs": [],
   "source": [
    "grid = []\n",
    "for i in range(len(lines)):\n",
    "    grid.append([])\n",
    "    for j in range(len(lines[0])):\n",
    "        grid[i].append(int(lines[i][j]))"
   ]
  },
  {
   "cell_type": "code",
   "execution_count": 34,
   "id": "cd7790a8",
   "metadata": {},
   "outputs": [],
   "source": [
    "low = []\n",
    "\n",
    "for i in range(len(lines)):\n",
    "    for j in range(len(lines[0])):\n",
    "        if i == 0:\n",
    "            if j == 0:\n",
    "                if grid[i][j]<min(grid[i+1][j], grid[i][j+1]):\n",
    "                    low.append(grid[i][j])\n",
    "            elif j == len(lines[0])-1:\n",
    "                if grid[i][j]<min(grid[i+1][j], grid[i][j-1]):\n",
    "                    low.append(grid[i][j])\n",
    "            else:\n",
    "                if grid[i][j]<min(grid[i+1][j], grid[i][j+1], grid[i][j-1]):\n",
    "                    low.append(grid[i][j])\n",
    "        elif i == len(lines) - 1:\n",
    "            if j == 0:\n",
    "                if grid[i][j]<min(grid[i-1][j], grid[i][j+1]):\n",
    "                    low.append(grid[i][j])\n",
    "            elif j == len(lines[0])-1:\n",
    "                if grid[i][j]<min(grid[i-1][j], grid[i][j-1]):\n",
    "                    low.append(grid[i][j])\n",
    "            else:\n",
    "                if grid[i][j]<min(grid[i-1][j], grid[i][j+1], grid[i][j-1]):\n",
    "                    low.append(grid[i][j])\n",
    "        else:\n",
    "            if j == 0:\n",
    "                if grid[i][j]<min(grid[i+1][j], grid[i-1][j], grid[i][j+1]):\n",
    "                    low.append(grid[i][j])\n",
    "            elif j == len(lines[0])-1:\n",
    "                if grid[i][j]<min(grid[i+1][j], grid[i-1][j], grid[i][j-1]):\n",
    "                    low.append(grid[i][j])\n",
    "            else:\n",
    "                if grid[i][j]<min(grid[i+1][j], grid[i-1][j], grid[i][j+1], grid[i][j-1]):\n",
    "                    low.append(grid[i][j])"
   ]
  },
  {
   "cell_type": "code",
   "execution_count": 35,
   "id": "9017a38f",
   "metadata": {},
   "outputs": [
    {
     "data": {
      "text/plain": [
       "548"
      ]
     },
     "execution_count": 35,
     "metadata": {},
     "output_type": "execute_result"
    }
   ],
   "source": [
    "sum(low) + len(low)"
   ]
  },
  {
   "cell_type": "code",
   "execution_count": 51,
   "id": "b7a98757",
   "metadata": {},
   "outputs": [],
   "source": [
    "done = []\n",
    "size = []\n",
    "\n",
    "for i in range(len(lines)):\n",
    "    for j in range(len(lines[0])):\n",
    "        tocheck = []\n",
    "        count = 0\n",
    "        if [i, j] not in done:\n",
    "            if grid[i][j] != 9:\n",
    "                count += 1\n",
    "                done.append([i,j])\n",
    "                tocheck.append([i,j])\n",
    "                for x in tocheck:\n",
    "                    if x[0] < len(lines) - 1:\n",
    "                        if grid[x[0]+1][x[1]] != 9 and [x[0]+1, x[1]] not in done:\n",
    "                                count += 1\n",
    "                                done.append([x[0]+1, x[1]])\n",
    "                                tocheck.append([x[0]+1, x[1]])\n",
    "                    if x[0] > 0:\n",
    "                        if grid[x[0]-1][x[1]] != 9 and [x[0]-1, x[1]] not in done:\n",
    "                                count += 1\n",
    "                                done.append([x[0]-1, x[1]])\n",
    "                                tocheck.append([x[0]-1, x[1]])\n",
    "                    if x[1] < len(lines[0]) - 1:\n",
    "                        if grid[x[0]][x[1]+1] != 9 and [x[0], x[1]+1] not in done:\n",
    "                                count += 1\n",
    "                                done.append([x[0], x[1]+1])\n",
    "                                tocheck.append([x[0], x[1]+1])\n",
    "                    if x[1] > 0:\n",
    "                        if grid[x[0]][x[1]-1] != 9 and [x[0], x[1]-1] not in done:\n",
    "                                count += 1\n",
    "                                done.append([x[0], x[1]-1])\n",
    "                                tocheck.append([x[0], x[1]-1])            \n",
    "                size.append(count)"
   ]
  },
  {
   "cell_type": "code",
   "execution_count": 52,
   "id": "00a2ff80",
   "metadata": {},
   "outputs": [
    {
     "data": {
      "text/plain": [
       "786048"
      ]
     },
     "execution_count": 52,
     "metadata": {},
     "output_type": "execute_result"
    }
   ],
   "source": [
    "size.sort()\n",
    "size[-1]*size[-2]*size[-3]"
   ]
  },
  {
   "cell_type": "code",
   "execution_count": 47,
   "id": "fd798e92",
   "metadata": {},
   "outputs": [
    {
     "data": {
      "text/plain": [
       "[3, 9, 9, 14]"
      ]
     },
     "execution_count": 47,
     "metadata": {},
     "output_type": "execute_result"
    }
   ],
   "source": [
    "size"
   ]
  },
  {
   "cell_type": "code",
   "execution_count": null,
   "id": "4f8194f6",
   "metadata": {},
   "outputs": [],
   "source": []
  }
 ],
 "metadata": {
  "kernelspec": {
   "display_name": "Python 3",
   "language": "python",
   "name": "python3"
  },
  "language_info": {
   "codemirror_mode": {
    "name": "ipython",
    "version": 3
   },
   "file_extension": ".py",
   "mimetype": "text/x-python",
   "name": "python",
   "nbconvert_exporter": "python",
   "pygments_lexer": "ipython3",
   "version": "3.8.8"
  }
 },
 "nbformat": 4,
 "nbformat_minor": 5
}
