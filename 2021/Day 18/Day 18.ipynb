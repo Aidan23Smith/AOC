{
 "cells": [
  {
   "cell_type": "code",
   "execution_count": 291,
   "id": "4e045a51",
   "metadata": {},
   "outputs": [],
   "source": [
    "import math\n",
    "def check(num, current = '', depth = 0, prev = '', split = '', exp = False, prevex = -1):\n",
    "    prevnum = ''\n",
    "\n",
    "    if not str(eval(str(num) + current)).isnumeric():\n",
    "        current += '[0]'\n",
    "        num, exp, prev, current = check(num, current, depth + 1, prev, split, exp, prevex)\n",
    "    elif exp:\n",
    "        exec('num' + current + '+= prevex')\n",
    "        return(num, exp, prev, current)\n",
    "    else:\n",
    "        if int(eval(str(num) + current))>9 and split == '':\n",
    "            split = current\n",
    "        if depth == 5:\n",
    "            exp = True\n",
    "            if prev != '':\n",
    "                exec('num' + prev + '+= eval(str(num) + current)')\n",
    "            prevex = eval(str(num) + current[:-3] + '[1]')\n",
    "            exec('num' + current[:-3] + '= 0')\n",
    "            \n",
    "            current = current[:-3]\n",
    "            depth -= 1\n",
    "            fin = True\n",
    "            while fin:\n",
    "                if current[-2] == '1':\n",
    "                    current = current[:-3]\n",
    "                    depth -= 1\n",
    "                    if depth == 0:\n",
    "                        return(num, exp, prev, current)\n",
    "                else:\n",
    "                    fin = False\n",
    "                    if current == []:\n",
    "                        return(num, exp, prev, current)\n",
    "                    else:\n",
    "                        current = current[:-2] + '1]'\n",
    "            num, exp, prev, current = check(num, current, depth, prev, split, exp, prevex)\n",
    "        else:\n",
    "            prev = current\n",
    "            if current[-2] == '0':\n",
    "                current = current[:-2] + '1]'\n",
    "                num, exp, prev, current = check(num, current, depth, prev, split, exp, prevex)\n",
    "            else:\n",
    "                fin = True\n",
    "                while fin:\n",
    "                    if current[-2] == '1':\n",
    "                        current = current[:-3]\n",
    "                        depth -= 1\n",
    "                        if depth == 0:\n",
    "                            if split != '':\n",
    "                                number = int(eval(str(num) + split))\n",
    "                                exec('num' + split + '= [math.floor(number/2), math.ceil(number/2)]')\n",
    "                            return(num, exp, prev, current)\n",
    "                    else:\n",
    "                        fin = False\n",
    "                        if current == []:\n",
    "                            return(num, exp, prev, current)\n",
    "                        else:\n",
    "                            current = current[:-2] + '1]'\n",
    "                num, exp, prev, current = check(num, current, depth, prev, split, exp, prevex)\n",
    "    return(num, exp, prev, current)"
   ]
  },
  {
   "cell_type": "code",
   "execution_count": 292,
   "id": "f91bc611",
   "metadata": {},
   "outputs": [],
   "source": [
    "def mag(num):\n",
    "    if str(num).isnumeric():\n",
    "        return(num)\n",
    "    return(3*mag(num[0]) + 2*mag(num[1]))"
   ]
  },
  {
   "cell_type": "code",
   "execution_count": 293,
   "id": "654477be",
   "metadata": {},
   "outputs": [],
   "source": [
    "import copy\n",
    "def add(num1, num2):\n",
    "    number = [num1, num2]\n",
    "\n",
    "    finish = True\n",
    "\n",
    "    while finish:\n",
    "        temp = copy.deepcopy(number)\n",
    "        newnum = check(number)[0]\n",
    "        if temp == newnum:\n",
    "            finish = False\n",
    "        number = newnum\n",
    "        \n",
    "    return(number)"
   ]
  },
  {
   "cell_type": "code",
   "execution_count": 298,
   "id": "fd2cbd81",
   "metadata": {},
   "outputs": [],
   "source": [
    "with open('input1.txt') as f:\n",
    "    lines = f.read().splitlines()"
   ]
  },
  {
   "cell_type": "code",
   "execution_count": 299,
   "id": "8a7c9da1",
   "metadata": {},
   "outputs": [
    {
     "name": "stdout",
     "output_type": "stream",
     "text": [
      "3486\n"
     ]
    }
   ],
   "source": [
    "prev = True\n",
    "for i in lines:\n",
    "    if prev == True:\n",
    "        prev = eval(i)\n",
    "    else:\n",
    "        prev = add(prev, eval(i))\n",
    "print(mag(prev))"
   ]
  },
  {
   "cell_type": "code",
   "execution_count": 301,
   "id": "ad21affd",
   "metadata": {},
   "outputs": [
    {
     "name": "stdout",
     "output_type": "stream",
     "text": [
      "4747\n"
     ]
    }
   ],
   "source": [
    "maxim = 0\n",
    "for i in range(len(lines)):\n",
    "    for j in range(i, len(lines)):\n",
    "        maxim = max(mag(add(eval(lines[i]), eval(lines[j]))), maxim)\n",
    "        \n",
    "print(maxim)"
   ]
  },
  {
   "cell_type": "code",
   "execution_count": 46,
   "id": "576c7f99",
   "metadata": {},
   "outputs": [],
   "source": [
    "[[[[4, 0], [5, 4]], [[7, 7], [6, 0]]], [[[8, 8], [5, 5]], [[0, 9], [7, 6]]]]"
   ]
  },
  {
   "cell_type": "code",
   "execution_count": 53,
   "id": "d980ff13",
   "metadata": {},
   "outputs": [],
   "source": [
    "[[1, 2], 3][0][1] = 1"
   ]
  },
  {
   "cell_type": "code",
   "execution_count": 65,
   "id": "3e8219ab",
   "metadata": {},
   "outputs": [],
   "source": [
    "b=[[1, 2], 3]"
   ]
  },
  {
   "cell_type": "code",
   "execution_count": 75,
   "id": "be8f6475",
   "metadata": {},
   "outputs": [
    {
     "data": {
      "text/plain": [
       "False"
      ]
     },
     "execution_count": 75,
     "metadata": {},
     "output_type": "execute_result"
    }
   ],
   "source": [
    "str(b).isnumeric()"
   ]
  },
  {
   "cell_type": "code",
   "execution_count": 78,
   "id": "6939d54f",
   "metadata": {},
   "outputs": [
    {
     "ename": "TypeError",
     "evalue": "'str' object does not support item assignment",
     "output_type": "error",
     "traceback": [
      "\u001b[0;31m---------------------------------------------------------------------------\u001b[0m",
      "\u001b[0;31mTypeError\u001b[0m                                 Traceback (most recent call last)",
      "\u001b[0;32m<ipython-input-78-06bf6111226d>\u001b[0m in \u001b[0;36m<module>\u001b[0;34m\u001b[0m\n\u001b[1;32m      1\u001b[0m \u001b[0ma\u001b[0m \u001b[0;34m=\u001b[0m \u001b[0;34m'1233'\u001b[0m\u001b[0;34m\u001b[0m\u001b[0;34m\u001b[0m\u001b[0m\n\u001b[0;32m----> 2\u001b[0;31m \u001b[0ma\u001b[0m\u001b[0;34m[\u001b[0m\u001b[0;36m2\u001b[0m\u001b[0;34m:\u001b[0m\u001b[0;36m2\u001b[0m\u001b[0;34m]\u001b[0m \u001b[0;34m=\u001b[0m \u001b[0;34m'1'\u001b[0m\u001b[0;34m\u001b[0m\u001b[0;34m\u001b[0m\u001b[0m\n\u001b[0m",
      "\u001b[0;31mTypeError\u001b[0m: 'str' object does not support item assignment"
     ]
    }
   ],
   "source": [
    "a = '1233'\n",
    "a[2:2] = '1'"
   ]
  },
  {
   "cell_type": "code",
   "execution_count": null,
   "id": "1b69ca57",
   "metadata": {},
   "outputs": [],
   "source": []
  }
 ],
 "metadata": {
  "kernelspec": {
   "display_name": "Python 3",
   "language": "python",
   "name": "python3"
  },
  "language_info": {
   "codemirror_mode": {
    "name": "ipython",
    "version": 3
   },
   "file_extension": ".py",
   "mimetype": "text/x-python",
   "name": "python",
   "nbconvert_exporter": "python",
   "pygments_lexer": "ipython3",
   "version": "3.8.8"
  }
 },
 "nbformat": 4,
 "nbformat_minor": 5
}
