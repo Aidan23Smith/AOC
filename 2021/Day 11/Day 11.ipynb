{
 "cells": [
  {
   "cell_type": "code",
   "execution_count": 450,
   "id": "bc26b0ff",
   "metadata": {},
   "outputs": [],
   "source": [
    "with open('input1.txt') as f:\n",
    "    lines = f.read().splitlines()"
   ]
  },
  {
   "cell_type": "code",
   "execution_count": 451,
   "id": "a8534faf",
   "metadata": {},
   "outputs": [],
   "source": [
    "import numpy as np\n",
    "\n",
    "grid = np.zeros((len(lines), len(lines[0])))\n",
    "for i in range(len(lines)):\n",
    "    grid[i,:] = np.array(list(map(int, list(lines[i]))))"
   ]
  },
  {
   "cell_type": "code",
   "execution_count": 452,
   "id": "7f968f20",
   "metadata": {},
   "outputs": [],
   "source": [
    "def step(grid):\n",
    "    grid += 1\n",
    "    \n",
    "    todox, todoy = np.where(grid == 10)\n",
    "    i = 0\n",
    "    \n",
    "    while i < len(todox):\n",
    "        lowerj = -1\n",
    "        upperj = 2\n",
    "        if todox[i] == 0:\n",
    "            lowerj = 0\n",
    "        elif todox[i] == len(grid[0])-1:\n",
    "            upperj = 1\n",
    "            \n",
    "        lowerk = -1\n",
    "        upperk = 2\n",
    "        if todoy[i] == 0:\n",
    "            lowerk = 0\n",
    "        elif todoy[i] == len(grid)-1:\n",
    "            upperk = 1\n",
    "            \n",
    "        for j in range(lowerj, upperj):\n",
    "            for k in range(lowerk, upperk):\n",
    "                if j != 0 or k != 0:\n",
    "                    grid[todox[i]+j, todoy[i]+k] += 1\n",
    "\n",
    "                    if grid[todox[i]+j, todoy[i]+k] == 10:\n",
    "                        todox = np.append(todox, todox[i]+j)\n",
    "                        todoy = np.append(todoy, todoy[i]+k)\n",
    "        i += 1\n",
    "    \n",
    "    grid[np.where(grid > 9)] = 0\n",
    "    \n",
    "    return(grid, len(todox))"
   ]
  },
  {
   "cell_type": "code",
   "execution_count": 453,
   "id": "e78d0570",
   "metadata": {},
   "outputs": [
    {
     "name": "stdout",
     "output_type": "stream",
     "text": [
      "337\n",
      "[[0. 0. 0. 0. 0. 0. 0. 0. 0. 0.]\n",
      " [0. 0. 0. 0. 0. 0. 0. 0. 0. 0.]\n",
      " [0. 0. 0. 0. 0. 0. 0. 0. 0. 0.]\n",
      " [0. 0. 0. 0. 0. 0. 0. 0. 0. 0.]\n",
      " [0. 0. 0. 0. 0. 0. 0. 0. 0. 0.]\n",
      " [0. 0. 0. 0. 0. 0. 0. 0. 0. 0.]\n",
      " [0. 0. 0. 0. 0. 0. 0. 0. 0. 0.]\n",
      " [0. 0. 0. 0. 0. 0. 0. 0. 0. 0.]\n",
      " [0. 0. 0. 0. 0. 0. 0. 0. 0. 0.]\n",
      " [0. 0. 0. 0. 0. 0. 0. 0. 0. 0.]]\n"
     ]
    },
    {
     "ename": "AttributeError",
     "evalue": "'numpy.ndarray' object has no attribute 'append'",
     "output_type": "error",
     "traceback": [
      "\u001b[0;31m---------------------------------------------------------------------------\u001b[0m",
      "\u001b[0;31mAttributeError\u001b[0m                            Traceback (most recent call last)",
      "\u001b[0;32m<ipython-input-453-d48aa53465e4>\u001b[0m in \u001b[0;36m<module>\u001b[0;34m\u001b[0m\n\u001b[1;32m      8\u001b[0m         \u001b[0mprint\u001b[0m\u001b[0;34m(\u001b[0m\u001b[0mi\u001b[0m\u001b[0;34m+\u001b[0m\u001b[0;36m1\u001b[0m\u001b[0;34m)\u001b[0m\u001b[0;34m\u001b[0m\u001b[0;34m\u001b[0m\u001b[0m\n\u001b[1;32m      9\u001b[0m         \u001b[0mprint\u001b[0m\u001b[0;34m(\u001b[0m\u001b[0mgrid\u001b[0m\u001b[0;34m)\u001b[0m\u001b[0;34m\u001b[0m\u001b[0;34m\u001b[0m\u001b[0m\n\u001b[0;32m---> 10\u001b[0;31m         \u001b[0mgrid\u001b[0m\u001b[0;34m.\u001b[0m\u001b[0mappend\u001b[0m\u001b[0;34m(\u001b[0m\u001b[0;34m)\u001b[0m\u001b[0;34m\u001b[0m\u001b[0;34m\u001b[0m\u001b[0m\n\u001b[0m\u001b[1;32m     11\u001b[0m     \u001b[0mi\u001b[0m\u001b[0;34m+=\u001b[0m\u001b[0;36m1\u001b[0m\u001b[0;34m\u001b[0m\u001b[0;34m\u001b[0m\u001b[0m\n\u001b[1;32m     12\u001b[0m \u001b[0mgrid\u001b[0m\u001b[0;34m\u001b[0m\u001b[0;34m\u001b[0m\u001b[0m\n",
      "\u001b[0;31mAttributeError\u001b[0m: 'numpy.ndarray' object has no attribute 'append'"
     ]
    }
   ],
   "source": [
    "tot = 0\n",
    "i=0\n",
    "while i > -1:\n",
    "    grid, num = step(grid)\n",
    "    tot += num\n",
    "\n",
    "    if num == len(grid)*len(grid[0]):\n",
    "        print(i+1)\n",
    "        print(grid)\n",
    "        grid.append()\n",
    "    i+=1\n",
    "grid"
   ]
  },
  {
   "cell_type": "code",
   "execution_count": 412,
   "id": "58ab6a54",
   "metadata": {},
   "outputs": [
    {
     "data": {
      "text/plain": [
       "1655"
      ]
     },
     "execution_count": 412,
     "metadata": {},
     "output_type": "execute_result"
    }
   ],
   "source": [
    "tot"
   ]
  },
  {
   "cell_type": "code",
   "execution_count": 295,
   "id": "344ecfbb",
   "metadata": {},
   "outputs": [
    {
     "data": {
      "text/plain": [
       "array([[0., 0., 0., 0., 9.],\n",
       "       [0., 0., 9., 9., 0.],\n",
       "       [0., 9., 6., 7., 0.],\n",
       "       [0., 9., 7., 7., 9.],\n",
       "       [9., 0., 0., 9., 8.]])"
      ]
     },
     "execution_count": 295,
     "metadata": {},
     "output_type": "execute_result"
    }
   ],
   "source": [
    "grid"
   ]
  },
  {
   "cell_type": "code",
   "execution_count": 66,
   "id": "8555b868",
   "metadata": {},
   "outputs": [
    {
     "data": {
      "text/plain": [
       "False"
      ]
     },
     "execution_count": 66,
     "metadata": {},
     "output_type": "execute_result"
    }
   ],
   "source": [
    "np.where(a[0]==4)[0] in np.where(a[1] == 5)[0]"
   ]
  },
  {
   "cell_type": "code",
   "execution_count": 46,
   "id": "56362aa1",
   "metadata": {},
   "outputs": [
    {
     "data": {
      "text/plain": [
       "array([3, 4])"
      ]
     },
     "execution_count": 46,
     "metadata": {},
     "output_type": "execute_result"
    }
   ],
   "source": [
    "np.where(a[0]==2)[0]"
   ]
  },
  {
   "cell_type": "code",
   "execution_count": 71,
   "id": "9eea495e",
   "metadata": {},
   "outputs": [
    {
     "ename": "IndexError",
     "evalue": "list index out of range",
     "output_type": "error",
     "traceback": [
      "\u001b[0;31m---------------------------------------------------------------------------\u001b[0m",
      "\u001b[0;31mIndexError\u001b[0m                                Traceback (most recent call last)",
      "\u001b[0;32m<ipython-input-71-2e23a7a5d89c>\u001b[0m in \u001b[0;36m<module>\u001b[0;34m\u001b[0m\n\u001b[0;32m----> 1\u001b[0;31m \u001b[0ma\u001b[0m \u001b[0;34m=\u001b[0m \u001b[0mnp\u001b[0m\u001b[0;34m.\u001b[0m\u001b[0mwhere\u001b[0m\u001b[0;34m(\u001b[0m\u001b[0ma\u001b[0m\u001b[0;34m[\u001b[0m\u001b[0;36m1\u001b[0m\u001b[0;34m]\u001b[0m \u001b[0;34m==\u001b[0m \u001b[0;36m2\u001b[0m\u001b[0;34m)\u001b[0m\u001b[0;34m[\u001b[0m\u001b[0;36m0\u001b[0m\u001b[0;34m]\u001b[0m\u001b[0;34m\u001b[0m\u001b[0;34m\u001b[0m\u001b[0m\n\u001b[0m",
      "\u001b[0;31mIndexError\u001b[0m: list index out of range"
     ]
    }
   ],
   "source": [
    "a = np.where(a[1] == 2)[0]"
   ]
  },
  {
   "cell_type": "code",
   "execution_count": 44,
   "id": "ca744528",
   "metadata": {},
   "outputs": [
    {
     "data": {
      "text/plain": [
       "(array([1, 1, 1, 2, 2, 3, 3, 3]), array([1, 2, 3, 1, 3, 1, 2, 3]))"
      ]
     },
     "execution_count": 44,
     "metadata": {},
     "output_type": "execute_result"
    }
   ],
   "source": [
    "a"
   ]
  },
  {
   "cell_type": "code",
   "execution_count": 52,
   "id": "eefb4978",
   "metadata": {},
   "outputs": [
    {
     "name": "stdout",
     "output_type": "stream",
     "text": [
      "[1 1 1 2 2 3 3 3]\n",
      "[1 2 3 1 3 1 2 3]\n"
     ]
    }
   ],
   "source": [
    "for b in [x,y]:\n",
    "    print(b)"
   ]
  },
  {
   "cell_type": "code",
   "execution_count": 74,
   "id": "618b3109",
   "metadata": {},
   "outputs": [
    {
     "data": {
      "text/plain": [
       "array([1, 1, 1, 2, 2, 2, 3, 3, 3, 1])"
      ]
     },
     "execution_count": 74,
     "metadata": {},
     "output_type": "execute_result"
    }
   ],
   "source": [
    "np.append(a[0], 1)"
   ]
  },
  {
   "cell_type": "code",
   "execution_count": null,
   "id": "6daee988",
   "metadata": {},
   "outputs": [],
   "source": []
  }
 ],
 "metadata": {
  "kernelspec": {
   "display_name": "Python 3",
   "language": "python",
   "name": "python3"
  },
  "language_info": {
   "codemirror_mode": {
    "name": "ipython",
    "version": 3
   },
   "file_extension": ".py",
   "mimetype": "text/x-python",
   "name": "python",
   "nbconvert_exporter": "python",
   "pygments_lexer": "ipython3",
   "version": "3.8.8"
  }
 },
 "nbformat": 4,
 "nbformat_minor": 5
}
