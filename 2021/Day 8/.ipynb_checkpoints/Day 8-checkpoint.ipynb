{
 "cells": [
  {
   "cell_type": "code",
   "execution_count": 210,
   "id": "79f0eab5",
   "metadata": {},
   "outputs": [],
   "source": [
    "with open('input1.txt') as f:\n",
    "    lines = f.read().splitlines()"
   ]
  },
  {
   "cell_type": "code",
   "execution_count": 272,
   "id": "529e1123",
   "metadata": {},
   "outputs": [],
   "source": [
    "def numbers(which):\n",
    "    res = {}\n",
    "    \n",
    "    alls = ['a', 'b', 'c', 'd', 'e', 'f', 'g']\n",
    "    \n",
    "    not6 = list(set([x for x in alls if (which[6][0]+which[6][1]+which[6][2]).count(x) == 2]))\n",
    "    one5 = list(set([x for x in alls if (which[5][0]+which[5][1]+which[5][2]).count(x) == 1]))\n",
    "    \n",
    "    res['a'] = [x for x in which[3][0] if x not in which[2][0]][0]\n",
    "    res['e'] = [x for x in not6 if x not in which[4][0]][0]\n",
    "    res['b'] = [x for x in one5 if x != res['e']][0]\n",
    "    res['d'] = [x for x in which[4][0] if x not in [list(which[2][0]) + [res['b']]]][0]\n",
    "    print(not6)\n",
    "    res['c'] = [x for x in not6 if x not in [res['d'], res['e']]][0]\n",
    "    print(res['d'], res['e'], res['c'])\n",
    "    res['f'] = [x for x in which[2][0] if x != res['c']][0]\n",
    "    print(which[2][0], res['f'])\n",
    "    res['g'] = [x for x in alls if x not in res.values()][0]\n",
    "    \n",
    "    return(res)"
   ]
  },
  {
   "cell_type": "code",
   "execution_count": 273,
   "id": "d4c33c77",
   "metadata": {},
   "outputs": [],
   "source": [
    "def convert(res, inputs):\n",
    "    digits = []\n",
    "    digits.append([res['a'], res['b'], res['c'], res['e'], res['f'], res['g']])\n",
    "    digits.append([res['c'], res['f']])\n",
    "    digits.append([res['a'], res['c'], res['d'], res['e'], res['g']])\n",
    "    digits.append([res['a'], res['c'], res['d'], res['f'], res['g']])\n",
    "    digits.append([res['b'], res['c'], res['d'], res['f']])\n",
    "    digits.append([res['a'], res['b'], res['d'], res['f'], res['g']])\n",
    "    digits.append([res['a'], res['b'], res['d'], res['e'], res['f'], res['g']])\n",
    "    digits.append([res['a'], res['c'], res['f']])\n",
    "    digits.append([res['a'], res['b'], res['c'], res['d'], res['e'], res['f'], res['g']])\n",
    "    digits.append([res['a'], res['b'], res['c'], res['d'], res['f'], res['g']])\n",
    "    \n",
    "    out = []\n",
    "    for x in inputs:\n",
    "        for i in range(len(digits)):\n",
    "            if set(x) == set(digits[i]):\n",
    "                out.append(i)\n",
    "    return(out)"
   ]
  },
  {
   "cell_type": "code",
   "execution_count": 274,
   "id": "d1d2e61e",
   "metadata": {},
   "outputs": [],
   "source": [
    "a = []\n",
    "a.append(['1'])"
   ]
  },
  {
   "cell_type": "code",
   "execution_count": 275,
   "id": "060428ed",
   "metadata": {},
   "outputs": [
    {
     "name": "stdout",
     "output_type": "stream",
     "text": [
      "['c', 'b', 'a']\n",
      "c a b\n",
      "be e\n",
      "{'a': 'd', 'e': 'a', 'b': 'g', 'd': 'c', 'c': 'b', 'f': 'e', 'g': 'f'}\n",
      "['c', 'e', 'a']\n",
      "g a c\n",
      "gc g\n",
      "{'a': 'b', 'e': 'a', 'b': 'f', 'd': 'g', 'c': 'c', 'f': 'g', 'g': 'd'}\n",
      "['c', 'e', 'a']\n",
      "g e c\n",
      "cg g\n",
      "{'a': 'b', 'e': 'e', 'b': 'f', 'd': 'g', 'c': 'c', 'f': 'g', 'g': 'a'}\n",
      "['g', 'b', 'a']\n",
      "a g b\n",
      "bc c\n",
      "{'a': 'd', 'e': 'g', 'b': 'f', 'd': 'a', 'c': 'b', 'f': 'c', 'g': 'e'}\n",
      "['d', 'e', 'f']\n",
      "f d e\n",
      "gf g\n",
      "{'a': 'b', 'e': 'd', 'b': 'c', 'd': 'f', 'c': 'e', 'f': 'g', 'g': 'a'}\n",
      "['d', 'b', 'c']\n",
      "b d c\n",
      "ca a\n",
      "{'a': 'f', 'e': 'd', 'b': 'e', 'd': 'b', 'c': 'c', 'f': 'a', 'g': 'g'}\n",
      "['c', 'g', 'a']\n",
      "f a c\n",
      "gf g\n",
      "{'a': 'd', 'e': 'a', 'b': 'e', 'd': 'f', 'c': 'c', 'f': 'g', 'g': 'b'}\n",
      "['d', 'b', 'a']\n",
      "b a d\n",
      "ed e\n",
      "{'a': 'c', 'e': 'a', 'b': 'f', 'd': 'b', 'c': 'd', 'f': 'e', 'g': 'g'}\n",
      "['c', 'e', 'a']\n",
      "c a e\n",
      "cg c\n",
      "{'a': 'b', 'e': 'a', 'b': 'd', 'd': 'c', 'c': 'e', 'f': 'c', 'g': 'f'}\n",
      "['d', 'f', 'a']\n",
      "g d f\n",
      "gf g\n",
      "{'a': 'c', 'e': 'd', 'b': 'e', 'd': 'g', 'c': 'f', 'f': 'g', 'g': 'a'}\n",
      "0: 0\n",
      "1: 7\n",
      "2: 1\n",
      "3: 3\n",
      "4: 5\n",
      "5: 1\n",
      "6: 2\n",
      "7: 2\n",
      "8: 5\n",
      "9: 2\n"
     ]
    }
   ],
   "source": [
    "output = []\n",
    "for i in range(len(lines)):\n",
    "    inputs, check = lines[i].split(' | ')\n",
    "    which = inputs.split()\n",
    "    \n",
    "    inputs2 = ['', '']\n",
    "    for i in range(2, 7):\n",
    "        inputs2.append([])\n",
    "        for x in which:\n",
    "            if len(x) == i:\n",
    "                inputs2[i].append(x)\n",
    "    res = numbers(inputs2)\n",
    "    \n",
    "    checks = check.split()\n",
    "\n",
    "    output += convert(res, checks)\n",
    "    print(res)\n",
    "\n",
    "for i in range(10):\n",
    "    print(str(i) + ': ' + str(output.count(i)))"
   ]
  },
  {
   "cell_type": "code",
   "execution_count": 257,
   "id": "d69f9560",
   "metadata": {},
   "outputs": [
    {
     "data": {
      "text/plain": [
       "19"
      ]
     },
     "execution_count": 257,
     "metadata": {},
     "output_type": "execute_result"
    }
   ],
   "source": [
    "output.count(1) + output.count(4) + output.count(7) + output.count(8) "
   ]
  },
  {
   "cell_type": "code",
   "execution_count": 233,
   "id": "d4e76612",
   "metadata": {},
   "outputs": [
    {
     "data": {
      "text/plain": [
       "{'a', 'b', 'c', 'd', 'e', 'f', 'g'}"
      ]
     },
     "execution_count": 233,
     "metadata": {},
     "output_type": "execute_result"
    }
   ],
   "source": [
    "{'e', 'd', 'b', 'g', 'c', 'f', 'a'} == set('abcdefg')"
   ]
  },
  {
   "cell_type": "code",
   "execution_count": 203,
   "id": "ac6d6613",
   "metadata": {},
   "outputs": [
    {
     "name": "stdout",
     "output_type": "stream",
     "text": [
      "453\n"
     ]
    }
   ],
   "source": [
    "count = 0\n",
    "for i in range(10):\n",
    "    count += output.count(i)\n",
    "    \n",
    "print(count)"
   ]
  },
  {
   "cell_type": "code",
   "execution_count": 113,
   "id": "40d2b7da",
   "metadata": {},
   "outputs": [],
   "source": [
    "a = check.split()\n",
    "for i in range(len(a)):\n",
    "    a[i] = list(a[i])\n",
    "    a[i].sort()"
   ]
  },
  {
   "cell_type": "code",
   "execution_count": 124,
   "id": "1f61d248",
   "metadata": {},
   "outputs": [],
   "source": [
    "a = [['e', 'a']]\n",
    "for i in range(len(a)):\n",
    "    a[i].sort()"
   ]
  },
  {
   "cell_type": "code",
   "execution_count": 139,
   "id": "4bc6dc05",
   "metadata": {},
   "outputs": [],
   "source": [
    "a = list(check.split()[0])\n",
    "a.sort()"
   ]
  },
  {
   "cell_type": "code",
   "execution_count": 162,
   "id": "5441baf5",
   "metadata": {},
   "outputs": [
    {
     "data": {
      "text/plain": [
       "True"
      ]
     },
     "execution_count": 162,
     "metadata": {},
     "output_type": "execute_result"
    }
   ],
   "source": [
    "set(['b', 'a', 'd', 'e', 'f', 'g']) == set(['a', 'b', 'd', 'e', 'f', 'g'])"
   ]
  },
  {
   "cell_type": "code",
   "execution_count": 164,
   "id": "c0bbc800",
   "metadata": {},
   "outputs": [
    {
     "data": {
      "text/plain": [
       "{'a', 'b', 'c', 'd', 'e', 'f', 'g'}"
      ]
     },
     "execution_count": 164,
     "metadata": {},
     "output_type": "execute_result"
    }
   ],
   "source": [
    "set(check.split()[0])"
   ]
  },
  {
   "cell_type": "code",
   "execution_count": 259,
   "id": "f36b2bdb",
   "metadata": {},
   "outputs": [
    {
     "data": {
      "text/plain": [
       "['g', 'f', '1']"
      ]
     },
     "execution_count": 259,
     "metadata": {},
     "output_type": "execute_result"
    }
   ],
   "source": [
    "list(inputs2[2][0]) + ['1']"
   ]
  },
  {
   "cell_type": "code",
   "execution_count": null,
   "id": "42bf3d7d",
   "metadata": {},
   "outputs": [],
   "source": []
  }
 ],
 "metadata": {
  "kernelspec": {
   "display_name": "Python 3",
   "language": "python",
   "name": "python3"
  },
  "language_info": {
   "codemirror_mode": {
    "name": "ipython",
    "version": 3
   },
   "file_extension": ".py",
   "mimetype": "text/x-python",
   "name": "python",
   "nbconvert_exporter": "python",
   "pygments_lexer": "ipython3",
   "version": "3.8.8"
  }
 },
 "nbformat": 4,
 "nbformat_minor": 5
}
