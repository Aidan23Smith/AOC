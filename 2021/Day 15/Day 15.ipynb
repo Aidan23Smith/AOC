{
 "cells": [
  {
   "cell_type": "code",
   "execution_count": 188,
   "id": "a998260b",
   "metadata": {},
   "outputs": [],
   "source": [
    "with open('input1.txt') as f:\n",
    "    lines = f.read().splitlines()\n",
    "\n",
    "grid = [list(map(int, list(lines[i]))) for i in range(len(lines))]"
   ]
  },
  {
   "cell_type": "markdown",
   "id": "ad652ad4",
   "metadata": {},
   "source": [
    "# Part 1"
   ]
  },
  {
   "cell_type": "code",
   "execution_count": 101,
   "id": "8a354092",
   "metadata": {},
   "outputs": [],
   "source": [
    "def around(grid, quickest, x, y):\n",
    "    if x>0:\n",
    "        if quickest[x-1][y] > quickest[x][y] + grid[x-1][y]:\n",
    "            quickest[x-1][y] = quickest[x][y] + grid[x-1][y]\n",
    "            quickest = around(grid, quickest, x-1, y)\n",
    "    if x<len(grid)-1:\n",
    "        if quickest[x+1][y] > quickest[x][y] + grid[x+1][y]:\n",
    "            quickest[x+1][y] = quickest[x][y] + grid[x+1][y]\n",
    "            quickest = around(grid, quickest, x+1, y)\n",
    "    if y>0:\n",
    "        if quickest[x][y-1] > quickest[x][y] + grid[x][y-1]:\n",
    "            quickest[x][y-1] = quickest[x][y] + grid[x][y-1]\n",
    "            quickest = around(grid, quickest, x, y-1)\n",
    "    if y<len(grid)-1:\n",
    "        if quickest[x][y+1] > quickest[x][y] + grid[x][y+1]:\n",
    "            quickest[x][y+1] = quickest[x][y] + grid[x][y+1]\n",
    "            quickest = around(grid, quickest, x, y+1)\n",
    "    return(quickest)"
   ]
  },
  {
   "cell_type": "code",
   "execution_count": 102,
   "id": "7020ebe7",
   "metadata": {},
   "outputs": [],
   "source": [
    "def start(grid, quickest):\n",
    "    for i in range(len(grid)):\n",
    "        for j in range(len(grid)):\n",
    "            if i == 0:\n",
    "                if j != 0:\n",
    "                    quickest[i][j] = quickest[i][j-1] + grid[i][j]\n",
    "            else:\n",
    "                quickest[i][j] = quickest[i-1][j] + grid[i][j]\n",
    "    return(quickest)"
   ]
  },
  {
   "cell_type": "code",
   "execution_count": 103,
   "id": "f41063bf",
   "metadata": {},
   "outputs": [],
   "source": [
    "quickest = [[float('inf') for i in range(len(lines))] for j in range(len(lines))]\n",
    "quickest[0][0] = 0\n",
    "\n",
    "quickest = start(grid, quickest)\n",
    "for i in range(len(grid)):\n",
    "    for j in range(len(grid)):\n",
    "        quickest = around(grid, quickest, i, j)"
   ]
  },
  {
   "cell_type": "code",
   "execution_count": 105,
   "id": "c1e0963e",
   "metadata": {},
   "outputs": [
    {
     "data": {
      "text/plain": [
       "687"
      ]
     },
     "execution_count": 105,
     "metadata": {},
     "output_type": "execute_result"
    }
   ],
   "source": [
    "quickest[-1][-1]"
   ]
  },
  {
   "cell_type": "markdown",
   "id": "e16879c8",
   "metadata": {},
   "source": [
    "# Part 2"
   ]
  },
  {
   "cell_type": "code",
   "execution_count": 189,
   "id": "f7480b43",
   "metadata": {},
   "outputs": [],
   "source": [
    "import numpy as np\n",
    "grids = np.array(grid)"
   ]
  },
  {
   "cell_type": "code",
   "execution_count": 190,
   "id": "41a5d6c3",
   "metadata": {},
   "outputs": [],
   "source": [
    "grids = np.hstack([(grids+i)%9+1 for i in range(-1,4)])\n",
    "grids = np.vstack([(grids+i)%9+1 for i in range(-1,4)])"
   ]
  },
  {
   "cell_type": "code",
   "execution_count": 192,
   "id": "2284009c",
   "metadata": {},
   "outputs": [],
   "source": [
    "quickest = [[float('inf') for i in range(len(grids))] for j in range(len(grids))]\n",
    "quickest[0][0] = 0\n",
    "\n",
    "quickest = start(grids, quickest)\n",
    "for i in range(len(grids)):\n",
    "    for j in range(len(grids)):\n",
    "        quickest = around(grids, quickest, i, j)"
   ]
  },
  {
   "cell_type": "code",
   "execution_count": 193,
   "id": "1f5b64ed",
   "metadata": {},
   "outputs": [
    {
     "data": {
      "text/plain": [
       "2957"
      ]
     },
     "execution_count": 193,
     "metadata": {},
     "output_type": "execute_result"
    }
   ],
   "source": [
    "quickest[-1][-1]"
   ]
  },
  {
   "cell_type": "code",
   "execution_count": 198,
   "id": "26825704",
   "metadata": {},
   "outputs": [
    {
     "data": {
      "text/plain": [
       "0"
      ]
     },
     "execution_count": 198,
     "metadata": {},
     "output_type": "execute_result"
    }
   ],
   "source": [
    "import os\n",
    "os.system('say \"Done\"')"
   ]
  },
  {
   "cell_type": "code",
   "execution_count": null,
   "id": "579f70c9",
   "metadata": {},
   "outputs": [],
   "source": []
  }
 ],
 "metadata": {
  "kernelspec": {
   "display_name": "Python 3",
   "language": "python",
   "name": "python3"
  },
  "language_info": {
   "codemirror_mode": {
    "name": "ipython",
    "version": 3
   },
   "file_extension": ".py",
   "mimetype": "text/x-python",
   "name": "python",
   "nbconvert_exporter": "python",
   "pygments_lexer": "ipython3",
   "version": "3.8.8"
  }
 },
 "nbformat": 4,
 "nbformat_minor": 5
}
