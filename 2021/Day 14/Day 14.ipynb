{
 "cells": [
  {
   "cell_type": "code",
   "execution_count": 95,
   "id": "3ddcecd9",
   "metadata": {},
   "outputs": [],
   "source": [
    "def nex(key, current):\n",
    "    for i in range(len(current)-1):\n",
    "        current[2*i+1:2*i+1] = (key[current[2*i]+current[2*i+1]])\n",
    "    return(current)"
   ]
  },
  {
   "cell_type": "code",
   "execution_count": 96,
   "id": "19fefa68",
   "metadata": {},
   "outputs": [],
   "source": [
    "def count(current):\n",
    "    a = [current.count(x) for x in set(current)]\n",
    "    print(max(a)-min(a))"
   ]
  },
  {
   "cell_type": "code",
   "execution_count": 97,
   "id": "a859ad7f",
   "metadata": {},
   "outputs": [],
   "source": [
    "def pt1(key, current, quant):\n",
    "    for i in range(quant):\n",
    "        current = nex(key, current)\n",
    "        print(i)\n",
    "    return(count(current))"
   ]
  },
  {
   "cell_type": "code",
   "execution_count": 98,
   "id": "4316a1b8",
   "metadata": {},
   "outputs": [
    {
     "name": "stdout",
     "output_type": "stream",
     "text": [
      "0\n",
      "1\n",
      "2\n",
      "3\n",
      "4\n",
      "5\n",
      "6\n",
      "7\n",
      "8\n",
      "9\n",
      "10\n",
      "11\n",
      "12\n"
     ]
    },
    {
     "ename": "KeyboardInterrupt",
     "evalue": "",
     "output_type": "error",
     "traceback": [
      "\u001b[0;31m---------------------------------------------------------------------------\u001b[0m",
      "\u001b[0;31mKeyboardInterrupt\u001b[0m                         Traceback (most recent call last)",
      "\u001b[0;32m<ipython-input-98-099ec56b8c39>\u001b[0m in \u001b[0;36m<module>\u001b[0;34m\u001b[0m\n\u001b[1;32m     14\u001b[0m         \u001b[0mkey\u001b[0m\u001b[0;34m[\u001b[0m\u001b[0mi\u001b[0m\u001b[0;34m.\u001b[0m\u001b[0msplit\u001b[0m\u001b[0;34m(\u001b[0m\u001b[0;34m' -> '\u001b[0m\u001b[0;34m)\u001b[0m\u001b[0;34m[\u001b[0m\u001b[0;36m0\u001b[0m\u001b[0;34m]\u001b[0m\u001b[0;34m]\u001b[0m \u001b[0;34m=\u001b[0m \u001b[0mi\u001b[0m\u001b[0;34m.\u001b[0m\u001b[0msplit\u001b[0m\u001b[0;34m(\u001b[0m\u001b[0;34m' -> '\u001b[0m\u001b[0;34m)\u001b[0m\u001b[0;34m[\u001b[0m\u001b[0;36m1\u001b[0m\u001b[0;34m]\u001b[0m\u001b[0;34m\u001b[0m\u001b[0;34m\u001b[0m\u001b[0m\n\u001b[1;32m     15\u001b[0m \u001b[0;34m\u001b[0m\u001b[0m\n\u001b[0;32m---> 16\u001b[0;31m \u001b[0mpt1\u001b[0m\u001b[0;34m(\u001b[0m\u001b[0mkey\u001b[0m\u001b[0;34m,\u001b[0m \u001b[0mcurrent\u001b[0m\u001b[0;34m,\u001b[0m \u001b[0;36m40\u001b[0m\u001b[0;34m)\u001b[0m\u001b[0;34m\u001b[0m\u001b[0;34m\u001b[0m\u001b[0m\n\u001b[0m",
      "\u001b[0;32m<ipython-input-97-6dabce141f26>\u001b[0m in \u001b[0;36mpt1\u001b[0;34m(key, current, quant)\u001b[0m\n\u001b[1;32m      1\u001b[0m \u001b[0;32mdef\u001b[0m \u001b[0mpt1\u001b[0m\u001b[0;34m(\u001b[0m\u001b[0mkey\u001b[0m\u001b[0;34m,\u001b[0m \u001b[0mcurrent\u001b[0m\u001b[0;34m,\u001b[0m \u001b[0mquant\u001b[0m\u001b[0;34m)\u001b[0m\u001b[0;34m:\u001b[0m\u001b[0;34m\u001b[0m\u001b[0;34m\u001b[0m\u001b[0m\n\u001b[1;32m      2\u001b[0m     \u001b[0;32mfor\u001b[0m \u001b[0mi\u001b[0m \u001b[0;32min\u001b[0m \u001b[0mrange\u001b[0m\u001b[0;34m(\u001b[0m\u001b[0mquant\u001b[0m\u001b[0;34m)\u001b[0m\u001b[0;34m:\u001b[0m\u001b[0;34m\u001b[0m\u001b[0;34m\u001b[0m\u001b[0m\n\u001b[0;32m----> 3\u001b[0;31m         \u001b[0mcurrent\u001b[0m \u001b[0;34m=\u001b[0m \u001b[0mnex\u001b[0m\u001b[0;34m(\u001b[0m\u001b[0mkey\u001b[0m\u001b[0;34m,\u001b[0m \u001b[0mcurrent\u001b[0m\u001b[0;34m)\u001b[0m\u001b[0;34m\u001b[0m\u001b[0;34m\u001b[0m\u001b[0m\n\u001b[0m\u001b[1;32m      4\u001b[0m         \u001b[0mprint\u001b[0m\u001b[0;34m(\u001b[0m\u001b[0mi\u001b[0m\u001b[0;34m)\u001b[0m\u001b[0;34m\u001b[0m\u001b[0;34m\u001b[0m\u001b[0m\n\u001b[1;32m      5\u001b[0m     \u001b[0;32mreturn\u001b[0m\u001b[0;34m(\u001b[0m\u001b[0mcount\u001b[0m\u001b[0;34m(\u001b[0m\u001b[0mcurrent\u001b[0m\u001b[0;34m)\u001b[0m\u001b[0;34m)\u001b[0m\u001b[0;34m\u001b[0m\u001b[0;34m\u001b[0m\u001b[0m\n",
      "\u001b[0;32m<ipython-input-95-e7002277055a>\u001b[0m in \u001b[0;36mnex\u001b[0;34m(key, current)\u001b[0m\n\u001b[1;32m      1\u001b[0m \u001b[0;32mdef\u001b[0m \u001b[0mnex\u001b[0m\u001b[0;34m(\u001b[0m\u001b[0mkey\u001b[0m\u001b[0;34m,\u001b[0m \u001b[0mcurrent\u001b[0m\u001b[0;34m)\u001b[0m\u001b[0;34m:\u001b[0m\u001b[0;34m\u001b[0m\u001b[0;34m\u001b[0m\u001b[0m\n\u001b[1;32m      2\u001b[0m     \u001b[0;32mfor\u001b[0m \u001b[0mi\u001b[0m \u001b[0;32min\u001b[0m \u001b[0mrange\u001b[0m\u001b[0;34m(\u001b[0m\u001b[0mlen\u001b[0m\u001b[0;34m(\u001b[0m\u001b[0mcurrent\u001b[0m\u001b[0;34m)\u001b[0m\u001b[0;34m-\u001b[0m\u001b[0;36m1\u001b[0m\u001b[0;34m)\u001b[0m\u001b[0;34m:\u001b[0m\u001b[0;34m\u001b[0m\u001b[0;34m\u001b[0m\u001b[0m\n\u001b[0;32m----> 3\u001b[0;31m         \u001b[0mcurrent\u001b[0m\u001b[0;34m[\u001b[0m\u001b[0;36m2\u001b[0m\u001b[0;34m*\u001b[0m\u001b[0mi\u001b[0m\u001b[0;34m+\u001b[0m\u001b[0;36m1\u001b[0m\u001b[0;34m:\u001b[0m\u001b[0;36m2\u001b[0m\u001b[0;34m*\u001b[0m\u001b[0mi\u001b[0m\u001b[0;34m+\u001b[0m\u001b[0;36m1\u001b[0m\u001b[0;34m]\u001b[0m \u001b[0;34m=\u001b[0m \u001b[0;34m(\u001b[0m\u001b[0mkey\u001b[0m\u001b[0;34m[\u001b[0m\u001b[0mcurrent\u001b[0m\u001b[0;34m[\u001b[0m\u001b[0;36m2\u001b[0m\u001b[0;34m*\u001b[0m\u001b[0mi\u001b[0m\u001b[0;34m]\u001b[0m\u001b[0;34m+\u001b[0m\u001b[0mcurrent\u001b[0m\u001b[0;34m[\u001b[0m\u001b[0;36m2\u001b[0m\u001b[0;34m*\u001b[0m\u001b[0mi\u001b[0m\u001b[0;34m+\u001b[0m\u001b[0;36m1\u001b[0m\u001b[0;34m]\u001b[0m\u001b[0;34m]\u001b[0m\u001b[0;34m)\u001b[0m\u001b[0;34m\u001b[0m\u001b[0;34m\u001b[0m\u001b[0m\n\u001b[0m\u001b[1;32m      4\u001b[0m     \u001b[0;32mreturn\u001b[0m\u001b[0;34m(\u001b[0m\u001b[0mcurrent\u001b[0m\u001b[0;34m)\u001b[0m\u001b[0;34m\u001b[0m\u001b[0;34m\u001b[0m\u001b[0m\n",
      "\u001b[0;31mKeyboardInterrupt\u001b[0m: "
     ]
    }
   ],
   "source": [
    "import string\n",
    "with open('input1.txt') as f:\n",
    "    lines = f.read().splitlines()\n",
    "    \n",
    "gap = True\n",
    "key = {}\n",
    "\n",
    "for i in lines:\n",
    "    if i == '':\n",
    "        gap = False  \n",
    "    elif gap:\n",
    "        current = list(i)\n",
    "    else:\n",
    "        key[i.split(' -> ')[0]] = i.split(' -> ')[1]\n",
    "        \n",
    "pt1(key, current, 40)"
   ]
  },
  {
   "cell_type": "code",
   "execution_count": null,
   "id": "0d1320d1",
   "metadata": {},
   "outputs": [],
   "source": [
    "def nextpair(key, currentpairs):\n",
    "    nextpairs = {}\n",
    "    for i in key:\n",
    "        nextpairs[i] = 0\n",
    "    \n",
    "    for i in key:\n",
    "        nextpairs[i[0]+key[i]] += currentpairs[i]\n",
    "        nextpairs[key[i]+i[1]] += currentpairs[i]\n",
    "    return(nextpairs)"
   ]
  },
  {
   "cell_type": "code",
   "execution_count": null,
   "id": "73559af0",
   "metadata": {},
   "outputs": [],
   "source": [
    "def recount(current, currentpairs):\n",
    "    counter = {}\n",
    "    for i in currentpairs:\n",
    "        if i[0] in counter:\n",
    "            counter[i[0]] += currentpairs[i]/2\n",
    "        else:\n",
    "            counter[i[0]] = currentpairs[i]/2\n",
    "        \n",
    "        if i[1] in counter:\n",
    "            counter[i[1]] += currentpairs[i]/2\n",
    "        else:\n",
    "            counter[i[1]] = currentpairs[i]/2\n",
    "    counter[current[0]]+=0.5\n",
    "    counter[current[-1]] += 0.5\n",
    "    return(int(max(counter.values())-min(counter.values())))"
   ]
  },
  {
   "cell_type": "code",
   "execution_count": null,
   "id": "1039d72e",
   "metadata": {},
   "outputs": [],
   "source": [
    "def pt2(key, current, currentpairs, quant):\n",
    "    for i in range(quant):\n",
    "        currentpairs = nextpair(key, currentpairs)\n",
    "    return(recount(current, currentpairs))"
   ]
  },
  {
   "cell_type": "code",
   "execution_count": null,
   "id": "889c8998",
   "metadata": {},
   "outputs": [],
   "source": [
    "with open('input1.txt') as f:\n",
    "    lines = f.read().splitlines()\n",
    "    \n",
    "gap = True\n",
    "key = {}\n",
    "\n",
    "for i in lines:\n",
    "    if i == '':\n",
    "        gap = False  \n",
    "    elif gap:\n",
    "        current = list(i)\n",
    "    else:\n",
    "        key[i.split(' -> ')[0]] = i.split(' -> ')[1]\n",
    "        \n",
    "currentpairs = {}\n",
    "for i in key:\n",
    "    currentpairs[i] = 0\n",
    "    \n",
    "for i in range(len(current)-1):\n",
    "    currentpairs[current[i]+current[i+1]] += 1\n",
    "\n",
    "pt2(key, current, currentpairs, 1000)"
   ]
  },
  {
   "cell_type": "code",
   "execution_count": null,
   "id": "236d32da",
   "metadata": {},
   "outputs": [],
   "source": []
  },
  {
   "cell_type": "code",
   "execution_count": null,
   "id": "3c15804d",
   "metadata": {},
   "outputs": [],
   "source": []
  }
 ],
 "metadata": {
  "kernelspec": {
   "display_name": "Python 3",
   "language": "python",
   "name": "python3"
  },
  "language_info": {
   "codemirror_mode": {
    "name": "ipython",
    "version": 3
   },
   "file_extension": ".py",
   "mimetype": "text/x-python",
   "name": "python",
   "nbconvert_exporter": "python",
   "pygments_lexer": "ipython3",
   "version": "3.8.8"
  }
 },
 "nbformat": 4,
 "nbformat_minor": 5
}
