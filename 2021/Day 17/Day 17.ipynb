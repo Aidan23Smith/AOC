{
 "cells": [
  {
   "cell_type": "code",
   "execution_count": 163,
   "id": "5a33763f",
   "metadata": {},
   "outputs": [],
   "source": [
    "def whichy(miny, maxy):\n",
    "    step = {}\n",
    "    for i in range(abs(miny)):\n",
    "        counter = 0\n",
    "        current = 0\n",
    "        while counter >= miny:\n",
    "            if counter <= maxy:\n",
    "                if (i*2 + 1 + current) in step:\n",
    "                    step[i*2 + 1 + current].append(i)\n",
    "                else:\n",
    "                    step[i*2 + 1 + current] = [i]\n",
    "            current += 1\n",
    "            counter -= (current + i)\n",
    "    \n",
    "    return(step)"
   ]
  },
  {
   "cell_type": "code",
   "execution_count": 164,
   "id": "8815e5bd",
   "metadata": {},
   "outputs": [],
   "source": [
    "def whichx(minx, maxx, maxstep):\n",
    "    step = {}\n",
    "    for i in range(maxx):\n",
    "        vel = maxx-i\n",
    "        pos = 0\n",
    "        count = 0\n",
    "        while pos <= maxx and count < maxstep + 1:\n",
    "            if pos >= minx:\n",
    "                if count in step:\n",
    "                    step[count].append(maxx - i)\n",
    "                else:\n",
    "                    step[count] = [maxx - i]\n",
    "            count += 1\n",
    "            pos += vel\n",
    "            vel = max(0, vel-1)\n",
    "    \n",
    "    return(step)"
   ]
  },
  {
   "cell_type": "code",
   "execution_count": 165,
   "id": "4de0a982",
   "metadata": {},
   "outputs": [],
   "source": [
    "def pt1(minx, maxx, steps):\n",
    "    maxval = -1\n",
    "    \n",
    "    for i in range(maxx+1):\n",
    "        if 0.5*i*(i+1) in steps:\n",
    "            maxval = max([steps[x][-1] for x in steps if x >= i])\n",
    "        else:\n",
    "            count = 0\n",
    "            for j in range(i, maxx+1):\n",
    "                count += (j-i)\n",
    "                if minx < count and count < maxx and count in steps:\n",
    "                    maxval = max(steps[count][-1], maxval)\n",
    "    return(int(0.5*maxval*(maxval+1)))"
   ]
  },
  {
   "cell_type": "code",
   "execution_count": 166,
   "id": "49ffdc99",
   "metadata": {},
   "outputs": [],
   "source": [
    "with open('input1.txt') as f:\n",
    "    lines = f.read().splitlines()\n",
    "\n",
    "split = lines[0].split('=')\n",
    "minx = int(split[1].split('..')[0])\n",
    "maxx = int(split[1].split('..')[1].split(',')[0])\n",
    "miny = int(split[2].split('..')[0])\n",
    "maxy = int(split[2].split('..')[1])"
   ]
  },
  {
   "cell_type": "code",
   "execution_count": 167,
   "id": "bb03cf05",
   "metadata": {},
   "outputs": [
    {
     "data": {
      "text/plain": [
       "33670"
      ]
     },
     "execution_count": 167,
     "metadata": {},
     "output_type": "execute_result"
    }
   ],
   "source": [
    "pt1(minx, maxx, whichy(miny, maxy))"
   ]
  },
  {
   "cell_type": "code",
   "execution_count": 168,
   "id": "75ad0e25",
   "metadata": {},
   "outputs": [],
   "source": [
    "def negy(miny, maxy, steps):\n",
    "    for y in range(1, abs(miny)+1):\n",
    "        count = 0\n",
    "        for j in range(y, abs(miny)+1):\n",
    "            count -= j\n",
    "            if miny<= count and count<=maxy:\n",
    "                if j-y+1 in steps:\n",
    "                    steps[j-y+1].append(-y)\n",
    "                else:\n",
    "                    steps[j-y+1] = [-y]\n",
    "    return(steps)"
   ]
  },
  {
   "cell_type": "code",
   "execution_count": 169,
   "id": "43cfa754",
   "metadata": {},
   "outputs": [],
   "source": [
    "def pt2(minx, maxx, miny, maxy):\n",
    "    stepy = negy(miny, maxy, whichy(miny, maxy))\n",
    "    stepx = whichx(minx, maxx, max(stepy))\n",
    "    count = []\n",
    "    for i in range(max(stepy)+1):\n",
    "        if i in stepy and i in stepx:\n",
    "            for x in stepx[i]:\n",
    "                for y in stepy[i]:\n",
    "                    if [x, y] not in count:\n",
    "                        count.append([x,y])\n",
    "\n",
    "    return(len(count))"
   ]
  },
  {
   "cell_type": "code",
   "execution_count": 170,
   "id": "8ea8e5b7",
   "metadata": {},
   "outputs": [
    {
     "data": {
      "text/plain": [
       "4903"
      ]
     },
     "execution_count": 170,
     "metadata": {},
     "output_type": "execute_result"
    }
   ],
   "source": [
    "pt2(minx, maxx, miny, maxy)"
   ]
  },
  {
   "cell_type": "code",
   "execution_count": 24,
   "id": "bc13b7f9",
   "metadata": {},
   "outputs": [],
   "source": [
    "steps = negy(miny, maxy, whichy(miny, maxy))"
   ]
  },
  {
   "cell_type": "code",
   "execution_count": 96,
   "id": "76b3d10d",
   "metadata": {},
   "outputs": [],
   "source": [
    "stepy = negy(miny, maxy, whichy(miny, maxy))\n",
    "stepx = whichx(minx, maxx, 20)"
   ]
  },
  {
   "cell_type": "code",
   "execution_count": 97,
   "id": "a40d1c96",
   "metadata": {},
   "outputs": [
    {
     "data": {
      "text/plain": [
       "{1: [30, 29, 28, 27, 26, 25, 24, 23, 22, 21, 20],\n",
       " 2: [15, 14, 13, 12, 11],\n",
       " 3: [11, 10, 9, 8],\n",
       " 4: [9, 8, 7],\n",
       " 5: [8, 7, 6],\n",
       " 6: [7, 6],\n",
       " 7: [7, 6],\n",
       " 8: [7, 6],\n",
       " 9: [7, 6],\n",
       " 10: [7, 6],\n",
       " 11: [7, 6],\n",
       " 12: [7, 6],\n",
       " 13: [7, 6],\n",
       " 14: [7, 6],\n",
       " 15: [7, 6],\n",
       " 16: [7, 6],\n",
       " 17: [7, 6],\n",
       " 18: [7, 6],\n",
       " 19: [7, 6],\n",
       " 20: [7, 6]}"
      ]
     },
     "execution_count": 97,
     "metadata": {},
     "output_type": "execute_result"
    }
   ],
   "source": [
    "stepx"
   ]
  },
  {
   "cell_type": "code",
   "execution_count": 98,
   "id": "ba451719",
   "metadata": {},
   "outputs": [
    {
     "data": {
      "text/plain": [
       "{4: [0, -1],\n",
       " 5: [0, 1],\n",
       " 6: [1],\n",
       " 7: [2],\n",
       " 9: [3],\n",
       " 10: [4],\n",
       " 12: [5],\n",
       " 14: [6],\n",
       " 16: [7],\n",
       " 18: [8],\n",
       " 20: [9],\n",
       " 3: [-1, -2],\n",
       " 2: [-2, -3, -4],\n",
       " 1: [-5, -6, -7, -8, -9, -10]}"
      ]
     },
     "execution_count": 98,
     "metadata": {},
     "output_type": "execute_result"
    }
   ],
   "source": [
    "stepy"
   ]
  },
  {
   "cell_type": "code",
   "execution_count": 129,
   "id": "2150ea18",
   "metadata": {},
   "outputs": [],
   "source": [
    "with open('input1.txt') as f:\n",
    "    lines = f.read().splitlines()\n",
    "\n",
    "xy = []\n",
    "\n",
    "for i in lines:\n",
    "    xy += [x for x in i.split() if x != '']\n",
    "xy = [[int(x.split(',')[0]),int(x.split(',')[1])]  for x in xy]"
   ]
  },
  {
   "cell_type": "code",
   "execution_count": 130,
   "id": "449c2a52",
   "metadata": {},
   "outputs": [],
   "source": [
    "xy.sort()"
   ]
  },
  {
   "cell_type": "code",
   "execution_count": 131,
   "id": "94da73ca",
   "metadata": {},
   "outputs": [
    {
     "data": {
      "text/plain": [
       "[[6, 0],\n",
       " [6, 1],\n",
       " [6, 2],\n",
       " [6, 3],\n",
       " [6, 4],\n",
       " [6, 5],\n",
       " [6, 6],\n",
       " [6, 7],\n",
       " [6, 8],\n",
       " [6, 9],\n",
       " [7, -1],\n",
       " [7, 0],\n",
       " [7, 1],\n",
       " [7, 2],\n",
       " [7, 3],\n",
       " [7, 4],\n",
       " [7, 5],\n",
       " [7, 6],\n",
       " [7, 7],\n",
       " [7, 8],\n",
       " [7, 9],\n",
       " [8, -2],\n",
       " [8, -1],\n",
       " [8, 0],\n",
       " [8, 1],\n",
       " [9, -2],\n",
       " [9, -1],\n",
       " [9, 0],\n",
       " [10, -2],\n",
       " [10, -1],\n",
       " [11, -4],\n",
       " [11, -3],\n",
       " [11, -2],\n",
       " [11, -1],\n",
       " [12, -4],\n",
       " [12, -3],\n",
       " [12, -2],\n",
       " [13, -4],\n",
       " [13, -3],\n",
       " [13, -2],\n",
       " [14, -4],\n",
       " [14, -3],\n",
       " [14, -2],\n",
       " [15, -4],\n",
       " [15, -3],\n",
       " [15, -2],\n",
       " [20, -10],\n",
       " [20, -9],\n",
       " [20, -8],\n",
       " [20, -7],\n",
       " [20, -6],\n",
       " [20, -5],\n",
       " [21, -10],\n",
       " [21, -9],\n",
       " [21, -8],\n",
       " [21, -7],\n",
       " [21, -6],\n",
       " [21, -5],\n",
       " [22, -10],\n",
       " [22, -9],\n",
       " [22, -8],\n",
       " [22, -7],\n",
       " [22, -6],\n",
       " [22, -5],\n",
       " [23, -10],\n",
       " [23, -9],\n",
       " [23, -8],\n",
       " [23, -7],\n",
       " [23, -6],\n",
       " [23, -5],\n",
       " [24, -10],\n",
       " [24, -9],\n",
       " [24, -8],\n",
       " [24, -7],\n",
       " [24, -6],\n",
       " [24, -5],\n",
       " [25, -10],\n",
       " [25, -9],\n",
       " [25, -8],\n",
       " [25, -7],\n",
       " [25, -6],\n",
       " [25, -5],\n",
       " [26, -10],\n",
       " [26, -9],\n",
       " [26, -8],\n",
       " [26, -7],\n",
       " [26, -6],\n",
       " [26, -5],\n",
       " [27, -10],\n",
       " [27, -9],\n",
       " [27, -8],\n",
       " [27, -7],\n",
       " [27, -6],\n",
       " [27, -5],\n",
       " [28, -10],\n",
       " [28, -9],\n",
       " [28, -8],\n",
       " [28, -7],\n",
       " [28, -6],\n",
       " [28, -5],\n",
       " [29, -10],\n",
       " [29, -9],\n",
       " [29, -8],\n",
       " [29, -7],\n",
       " [29, -6],\n",
       " [29, -5],\n",
       " [30, -10],\n",
       " [30, -9],\n",
       " [30, -8],\n",
       " [30, -7],\n",
       " [30, -6],\n",
       " [30, -5]]"
      ]
     },
     "execution_count": 131,
     "metadata": {},
     "output_type": "execute_result"
    }
   ],
   "source": [
    "xy"
   ]
  },
  {
   "cell_type": "code",
   "execution_count": 152,
   "id": "6a906576",
   "metadata": {},
   "outputs": [],
   "source": [
    "z.sort()"
   ]
  },
  {
   "cell_type": "code",
   "execution_count": 155,
   "id": "0618fc01",
   "metadata": {},
   "outputs": [
    {
     "data": {
      "text/plain": [
       "[[6, 9], [7, 9]]"
      ]
     },
     "execution_count": 155,
     "metadata": {},
     "output_type": "execute_result"
    }
   ],
   "source": [
    "[x for x in xy if x not in z]"
   ]
  },
  {
   "cell_type": "code",
   "execution_count": 156,
   "id": "eb0c55ce",
   "metadata": {},
   "outputs": [
    {
     "data": {
      "text/plain": [
       "{1: [30, 29, 28, 27, 26, 25, 24, 23, 22, 21, 20],\n",
       " 2: [15, 14, 13, 12, 11],\n",
       " 3: [11, 10, 9, 8],\n",
       " 4: [9, 8, 7],\n",
       " 5: [8, 7, 6],\n",
       " 6: [7, 6],\n",
       " 7: [7, 6],\n",
       " 8: [7, 6],\n",
       " 9: [7, 6],\n",
       " 10: [7, 6],\n",
       " 11: [7, 6],\n",
       " 12: [7, 6],\n",
       " 13: [7, 6],\n",
       " 14: [7, 6],\n",
       " 15: [7, 6],\n",
       " 16: [7, 6],\n",
       " 17: [7, 6],\n",
       " 18: [7, 6],\n",
       " 19: [7, 6],\n",
       " 20: [7, 6]}"
      ]
     },
     "execution_count": 156,
     "metadata": {},
     "output_type": "execute_result"
    }
   ],
   "source": [
    "stepx"
   ]
  },
  {
   "cell_type": "code",
   "execution_count": 157,
   "id": "d58e2ec0",
   "metadata": {},
   "outputs": [
    {
     "data": {
      "text/plain": [
       "{4: [0, -1],\n",
       " 5: [0, 1],\n",
       " 6: [1],\n",
       " 7: [2],\n",
       " 9: [3],\n",
       " 10: [4],\n",
       " 12: [5],\n",
       " 14: [6],\n",
       " 16: [7],\n",
       " 18: [8],\n",
       " 20: [9],\n",
       " 3: [-1, -2],\n",
       " 2: [-2, -3, -4],\n",
       " 1: [-5, -6, -7, -8, -9, -10]}"
      ]
     },
     "execution_count": 157,
     "metadata": {},
     "output_type": "execute_result"
    }
   ],
   "source": [
    "stepy"
   ]
  },
  {
   "cell_type": "code",
   "execution_count": null,
   "id": "5c2cd9e7",
   "metadata": {},
   "outputs": [],
   "source": []
  }
 ],
 "metadata": {
  "kernelspec": {
   "display_name": "Python 3",
   "language": "python",
   "name": "python3"
  },
  "language_info": {
   "codemirror_mode": {
    "name": "ipython",
    "version": 3
   },
   "file_extension": ".py",
   "mimetype": "text/x-python",
   "name": "python",
   "nbconvert_exporter": "python",
   "pygments_lexer": "ipython3",
   "version": "3.8.8"
  }
 },
 "nbformat": 4,
 "nbformat_minor": 5
}
