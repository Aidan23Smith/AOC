{
 "cells": [
  {
   "cell_type": "code",
   "execution_count": 2,
   "id": "828dcfe7",
   "metadata": {},
   "outputs": [],
   "source": [
    "with open('input1.txt') as f:\n",
    "    lines = f.read().splitlines()\n",
    "inputs = [int(x) for x in lines]"
   ]
  },
  {
   "cell_type": "markdown",
   "id": "8d870f72",
   "metadata": {},
   "source": [
    "# Part 1"
   ]
  },
  {
   "cell_type": "code",
   "execution_count": 3,
   "id": "97c1ac62",
   "metadata": {},
   "outputs": [],
   "source": [
    "def pt1(inputs):\n",
    "    for x in inputs:\n",
    "        for y in inputs:\n",
    "            if x + y == 2020:\n",
    "                return(x*y)"
   ]
  },
  {
   "cell_type": "code",
   "execution_count": 4,
   "id": "bccf0862",
   "metadata": {},
   "outputs": [
    {
     "name": "stdout",
     "output_type": "stream",
     "text": [
      "751776\n"
     ]
    }
   ],
   "source": [
    "print(pt1(inputs))"
   ]
  },
  {
   "cell_type": "markdown",
   "id": "e2505b6e",
   "metadata": {},
   "source": [
    "# Part 2"
   ]
  },
  {
   "cell_type": "code",
   "execution_count": 5,
   "id": "6475da9d",
   "metadata": {},
   "outputs": [],
   "source": [
    "def pt2(inputs):\n",
    "    for x in inputs:\n",
    "        for y in inputs:\n",
    "            for z in inputs:\n",
    "                if x + y + z == 2020:\n",
    "                    return(x*y*z)"
   ]
  },
  {
   "cell_type": "code",
   "execution_count": 6,
   "id": "217149b8",
   "metadata": {},
   "outputs": [
    {
     "name": "stdout",
     "output_type": "stream",
     "text": [
      "42275090\n"
     ]
    }
   ],
   "source": [
    "print(pt2(inputs))"
   ]
  },
  {
   "cell_type": "code",
   "execution_count": null,
   "id": "17cd082d",
   "metadata": {},
   "outputs": [],
   "source": []
  }
 ],
 "metadata": {
  "kernelspec": {
   "display_name": "Python 3",
   "language": "python",
   "name": "python3"
  },
  "language_info": {
   "codemirror_mode": {
    "name": "ipython",
    "version": 3
   },
   "file_extension": ".py",
   "mimetype": "text/x-python",
   "name": "python",
   "nbconvert_exporter": "python",
   "pygments_lexer": "ipython3",
   "version": "3.8.8"
  }
 },
 "nbformat": 4,
 "nbformat_minor": 5
}
