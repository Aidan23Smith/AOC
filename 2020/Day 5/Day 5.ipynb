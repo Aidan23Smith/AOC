{
 "cells": [
  {
   "cell_type": "code",
   "execution_count": 16,
   "id": "b592902f",
   "metadata": {},
   "outputs": [],
   "source": [
    "def linetoid(line):\n",
    "    FB = ''\n",
    "    LR = ''\n",
    "    \n",
    "    for i in list(line):\n",
    "        if i == 'F':\n",
    "            FB += '0'\n",
    "        elif i == 'B':\n",
    "            FB += '1'\n",
    "        elif i == 'L':\n",
    "            LR += '0'\n",
    "        elif i == 'R':\n",
    "            LR += '1'\n",
    "    \n",
    "    return(int(FB, 2)*8+int(LR, 2))"
   ]
  },
  {
   "cell_type": "markdown",
   "id": "9688bd2d",
   "metadata": {},
   "source": [
    "# Part 1"
   ]
  },
  {
   "cell_type": "code",
   "execution_count": 17,
   "id": "aea0709e",
   "metadata": {},
   "outputs": [
    {
     "name": "stdout",
     "output_type": "stream",
     "text": [
      "996\n"
     ]
    }
   ],
   "source": [
    "with open('input1.txt') as f:\n",
    "    lines = f.read().splitlines()\n",
    "\n",
    "maxim = 0\n",
    "for i in lines:\n",
    "    res = linetoid(i)\n",
    "    if res > maxim:\n",
    "        maxim = res\n",
    "\n",
    "print(maxim)"
   ]
  },
  {
   "cell_type": "markdown",
   "id": "3ce4624b",
   "metadata": {},
   "source": [
    "# Part 2"
   ]
  },
  {
   "cell_type": "code",
   "execution_count": 30,
   "id": "d32aef77",
   "metadata": {},
   "outputs": [
    {
     "name": "stdout",
     "output_type": "stream",
     "text": [
      "[21, 996, 670, 672]\n"
     ]
    }
   ],
   "source": [
    "notmissing = []\n",
    "\n",
    "for i in lines:\n",
    "    notmissing.append(linetoid(i))\n",
    "\n",
    "print([x for x in range(1000) if x+1 not in missing or x-1 not in missing])"
   ]
  },
  {
   "cell_type": "code",
   "execution_count": null,
   "id": "f4e25d74",
   "metadata": {},
   "outputs": [],
   "source": []
  }
 ],
 "metadata": {
  "kernelspec": {
   "display_name": "Python 3",
   "language": "python",
   "name": "python3"
  },
  "language_info": {
   "codemirror_mode": {
    "name": "ipython",
    "version": 3
   },
   "file_extension": ".py",
   "mimetype": "text/x-python",
   "name": "python",
   "nbconvert_exporter": "python",
   "pygments_lexer": "ipython3",
   "version": "3.8.8"
  }
 },
 "nbformat": 4,
 "nbformat_minor": 5
}
