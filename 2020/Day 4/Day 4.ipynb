{
 "cells": [
  {
   "cell_type": "code",
   "execution_count": 65,
   "id": "4adb04d4",
   "metadata": {},
   "outputs": [],
   "source": [
    "with open('input1.txt') as f:\n",
    "    lines = f.read().splitlines()"
   ]
  },
  {
   "cell_type": "code",
   "execution_count": 66,
   "id": "3a1cfc09",
   "metadata": {},
   "outputs": [],
   "source": [
    "def pt1(lines):\n",
    "    needed = ['byr', 'iyr', 'eyr', 'hgt', 'hcl', 'ecl', 'pid']\n",
    "    \n",
    "    inc = []\n",
    "    count = 0\n",
    "    for i in lines:\n",
    "        if i == '':\n",
    "            if len(inc) == 7:\n",
    "                count += 1\n",
    "            inc = []\n",
    "        else:\n",
    "            inc += [y for y in [x.split(':')[0] for x in i.split()] if y in needed and y not in inc]\n",
    "            \n",
    "    if len(inc) == 7:\n",
    "        count += 1\n",
    "        \n",
    "    return(count)"
   ]
  },
  {
   "cell_type": "code",
   "execution_count": 67,
   "id": "1c8b5488",
   "metadata": {},
   "outputs": [
    {
     "data": {
      "text/plain": [
       "216"
      ]
     },
     "execution_count": 67,
     "metadata": {},
     "output_type": "execute_result"
    }
   ],
   "source": [
    "pt1(lines)"
   ]
  },
  {
   "cell_type": "code",
   "execution_count": 68,
   "id": "a590d188",
   "metadata": {},
   "outputs": [],
   "source": [
    "def pt2(lines):\n",
    "    \n",
    "    letters = ['a', 'b', 'c', 'd', 'e', 'f']\n",
    "    \n",
    "    inc = 0\n",
    "    count = 0\n",
    "    for i in lines:\n",
    "        if i == '':\n",
    "            if inc == 7:\n",
    "                count += 1\n",
    "            inc = 0\n",
    "        else:\n",
    "            for j in i.split():\n",
    "                if j.split(':')[0] == 'byr':\n",
    "                    check = j.split(':')[1]\n",
    "                    if check.isnumeric():\n",
    "                        if 1920 <= int(check) and int(check) <= 2002:\n",
    "                            inc += 1\n",
    "                            \n",
    "                elif j.split(':')[0] == 'iyr':\n",
    "                    check = j.split(':')[1]\n",
    "                    if check.isnumeric():\n",
    "                        if 2010 <= int(check) and int(check) <= 2020:\n",
    "                            inc += 1\n",
    "                            \n",
    "                elif j.split(':')[0] == 'eyr':\n",
    "                    check = j.split(':')[1]\n",
    "                    if check.isnumeric():\n",
    "                        if 2020 <= int(check) and int(check) <= 2030:\n",
    "                            inc += 1\n",
    "                                \n",
    "                elif j.split(':')[0] == 'hgt':\n",
    "                    check = j.split(':')[1]\n",
    "\n",
    "                    if 'cm' in check:\n",
    "                        if check.split('cm')[0].isnumeric():\n",
    "                            if 150 <= int(check.split('cm')[0]) and int(check.split('cm')[0]) <= 193:\n",
    "                                inc += 1\n",
    "                    elif 'in' in check:\n",
    "                        if check.split('in')[0].isnumeric():\n",
    "                            if 59 <= int(check.split('in')[0]) and int(check.split('in')[0]) <= 76:\n",
    "                                inc += 1\n",
    "                            \n",
    "                elif j.split(':')[0] == 'hcl':\n",
    "                    check = j.split(':')[1]\n",
    "                    if check[0] == '#' and len(check) == 7:\n",
    "                        checks = True\n",
    "                        for i in range(1,7):\n",
    "                            if check[i] not in letters and not check[i].isnumeric():\n",
    "                                checks = False\n",
    "                        inc += checks\n",
    "                    \n",
    "                elif j.split(':')[0] == 'ecl':\n",
    "                    check = j.split(':')[1]\n",
    "                    if check in ['amb', 'blu', 'brn', 'gry', 'grn', 'hzl', 'oth']:\n",
    "                        inc += 1\n",
    "                    \n",
    "                elif j.split(':')[0] == 'pid':\n",
    "                    check = j.split(':')[1]\n",
    "                    if len(check)==9 and check.isnumeric():\n",
    "                        inc += 1\n",
    "                        \n",
    "    if inc == 7:\n",
    "        count += 1\n",
    "        \n",
    "    return(count)"
   ]
  },
  {
   "cell_type": "code",
   "execution_count": 64,
   "id": "7b8653c6",
   "metadata": {},
   "outputs": [
    {
     "data": {
      "text/plain": [
       "4"
      ]
     },
     "execution_count": 64,
     "metadata": {},
     "output_type": "execute_result"
    }
   ],
   "source": [
    "pt2(lines)"
   ]
  },
  {
   "cell_type": "code",
   "execution_count": null,
   "id": "a51b7e3e",
   "metadata": {},
   "outputs": [],
   "source": []
  }
 ],
 "metadata": {
  "kernelspec": {
   "display_name": "Python 3",
   "language": "python",
   "name": "python3"
  },
  "language_info": {
   "codemirror_mode": {
    "name": "ipython",
    "version": 3
   },
   "file_extension": ".py",
   "mimetype": "text/x-python",
   "name": "python",
   "nbconvert_exporter": "python",
   "pygments_lexer": "ipython3",
   "version": "3.8.8"
  }
 },
 "nbformat": 4,
 "nbformat_minor": 5
}
