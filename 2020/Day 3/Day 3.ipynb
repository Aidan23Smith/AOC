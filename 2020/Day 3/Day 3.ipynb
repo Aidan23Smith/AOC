{
 "cells": [
  {
   "cell_type": "code",
   "execution_count": 6,
   "id": "42ebd7c3",
   "metadata": {},
   "outputs": [],
   "source": [
    "import string\n",
    "with open('input1.txt') as f:\n",
    "    lines = f.read().splitlines()"
   ]
  },
  {
   "cell_type": "markdown",
   "id": "dec91691",
   "metadata": {},
   "source": [
    "# Part 1"
   ]
  },
  {
   "cell_type": "code",
   "execution_count": 7,
   "id": "1ddce018",
   "metadata": {},
   "outputs": [],
   "source": [
    "def counter(lines):\n",
    "    width = len(lines[0])\n",
    "    res = 0\n",
    "    \n",
    "    for i in range(len(lines)):\n",
    "        if lines[i][3*i%width] == '#':\n",
    "            res += 1\n",
    "    return(res)"
   ]
  },
  {
   "cell_type": "code",
   "execution_count": 8,
   "id": "491513a4",
   "metadata": {},
   "outputs": [
    {
     "data": {
      "text/plain": [
       "153"
      ]
     },
     "execution_count": 8,
     "metadata": {},
     "output_type": "execute_result"
    }
   ],
   "source": [
    "counter(lines)"
   ]
  },
  {
   "cell_type": "markdown",
   "id": "c12d53f3",
   "metadata": {},
   "source": [
    "# Part 2"
   ]
  },
  {
   "cell_type": "code",
   "execution_count": 9,
   "id": "b89687e1",
   "metadata": {},
   "outputs": [],
   "source": [
    "def counter2(lines, right, down):\n",
    "    width = len(lines[0])\n",
    "    res = 0\n",
    "    \n",
    "    i = 0\n",
    "    while i*down < range(len(lines)):\n",
    "        if lines[i*down][right*i%width] == '#':\n",
    "            res += 1\n",
    "        i += 1\n",
    "        \n",
    "    return(res)"
   ]
  },
  {
   "cell_type": "code",
   "execution_count": null,
   "id": "0bc4e398",
   "metadata": {},
   "outputs": [],
   "source": [
    "def pt2(lines):\n",
    "    res = 0\n",
    "    res += counter2(lines, 1, 1)\n",
    "    res += counter2(lines, 1, 1)\n",
    "    res += counter2(lines, 1, 1)\n",
    "    res += counter2(lines, 1, 1)\n",
    "    "
   ]
  }
 ],
 "metadata": {
  "kernelspec": {
   "display_name": "Python 3",
   "language": "python",
   "name": "python3"
  },
  "language_info": {
   "codemirror_mode": {
    "name": "ipython",
    "version": 3
   },
   "file_extension": ".py",
   "mimetype": "text/x-python",
   "name": "python",
   "nbconvert_exporter": "python",
   "pygments_lexer": "ipython3",
   "version": "3.8.8"
  }
 },
 "nbformat": 4,
 "nbformat_minor": 5
}
