{
 "cells": [
  {
   "cell_type": "code",
   "execution_count": 36,
   "id": "38f69512",
   "metadata": {},
   "outputs": [],
   "source": [
    "with open('input1.txt') as f:\n",
    "    lines = f.read().splitlines()\n",
    "    \n",
    "counter = 0\n",
    "counter2 = 0\n",
    "for i in lines:\n",
    "    line = i.split(' ')\n",
    "    lower = int(line[0].split('-')[0])\n",
    "    upper = int(line[0].split('-')[1])\n",
    "    letter = line[1][0]\n",
    "    password = line[2]\n",
    "    \n",
    "    quant = password.count(letter)\n",
    "\n",
    "    if lower == quant and quant <= upper:\n",
    "        counter += 1\n",
    "        \n",
    "    if password[lower] == letter xor password[upper] == upper:\n",
    "        counter += 1"
   ]
  },
  {
   "cell_type": "code",
   "execution_count": 37,
   "id": "73b50b74",
   "metadata": {},
   "outputs": [
    {
     "data": {
      "text/plain": [
       "548"
      ]
     },
     "execution_count": 37,
     "metadata": {},
     "output_type": "execute_result"
    }
   ],
   "source": [
    "counter"
   ]
  },
  {
   "cell_type": "code",
   "execution_count": 21,
   "id": "9592a3db",
   "metadata": {},
   "outputs": [
    {
     "data": {
      "text/plain": [
       "[4, 1010, 1010]"
      ]
     },
     "execution_count": 21,
     "metadata": {},
     "output_type": "execute_result"
    }
   ],
   "source": [
    "lists"
   ]
  },
  {
   "cell_type": "code",
   "execution_count": 24,
   "id": "74a40aae",
   "metadata": {},
   "outputs": [
    {
     "name": "stdout",
     "output_type": "stream",
     "text": [
      "1020100\n",
      "1020100\n"
     ]
    }
   ],
   "source": [
    "for x in lists:\n",
    "    for y in reversed(lists):\n",
    "        \n",
    "        if x + y == 2020:\n",
    "            print(x*y)\n",
    "            break\n",
    "        elif(x+y>2020):\n",
    "            break"
   ]
  },
  {
   "cell_type": "code",
   "execution_count": null,
   "id": "9c03bb6e",
   "metadata": {},
   "outputs": [],
   "source": []
  }
 ],
 "metadata": {
  "kernelspec": {
   "display_name": "Python 3",
   "language": "python",
   "name": "python3"
  },
  "language_info": {
   "codemirror_mode": {
    "name": "ipython",
    "version": 3
   },
   "file_extension": ".py",
   "mimetype": "text/x-python",
   "name": "python",
   "nbconvert_exporter": "python",
   "pygments_lexer": "ipython3",
   "version": "3.8.8"
  }
 },
 "nbformat": 4,
 "nbformat_minor": 5
}
