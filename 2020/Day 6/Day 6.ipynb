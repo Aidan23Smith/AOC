{
 "cells": [
  {
   "cell_type": "code",
   "execution_count": 23,
   "id": "8b1684db",
   "metadata": {},
   "outputs": [],
   "source": [
    "def pt1(lines):\n",
    "    gap = True\n",
    "    count = 0\n",
    "    current = []\n",
    "    \n",
    "    for i in lines:\n",
    "        if i == '':\n",
    "            gap = True\n",
    "        elif gap:\n",
    "            count += len(current)\n",
    "            current = []\n",
    "            gap = False\n",
    "        current = list(set(list(i)+current))\n",
    "    \n",
    "    count += len(current)\n",
    "    return(count)"
   ]
  },
  {
   "cell_type": "code",
   "execution_count": 33,
   "id": "729ecb3d",
   "metadata": {},
   "outputs": [],
   "source": [
    "import string\n",
    "def pt2(lines):\n",
    "    gap = False\n",
    "    count = 0\n",
    "    current = string.ascii_lowercase\n",
    "    \n",
    "    for i in lines:\n",
    "        if i == '':\n",
    "            gap = True\n",
    "        elif gap:\n",
    "            count += len(current)\n",
    "            current = string.ascii_lowercase\n",
    "            gap = False\n",
    "        current = [x for x in current if x in list(i)]\n",
    "        print(current, count)\n",
    "    \n",
    "    count += len(current)\n",
    "    return(count)"
   ]
  },
  {
   "cell_type": "code",
   "execution_count": 34,
   "id": "6c82e746",
   "metadata": {},
   "outputs": [
    {
     "name": "stdout",
     "output_type": "stream",
     "text": [
      "11\n",
      "['a', 'b', 'c'] 0\n",
      "[] 0\n",
      "['a'] 0\n",
      "[] 0\n",
      "[] 0\n",
      "[] 0\n",
      "['a', 'b'] 0\n",
      "['a'] 0\n",
      "[] 0\n",
      "['a'] 0\n",
      "['a'] 0\n",
      "['a'] 0\n",
      "['a'] 0\n",
      "[] 0\n",
      "['b'] 0\n",
      "1\n"
     ]
    }
   ],
   "source": [
    "with open('input1.txt') as f:\n",
    "    lines = f.read().splitlines()\n",
    "print(pt1(lines))\n",
    "print(pt2(lines))"
   ]
  },
  {
   "cell_type": "code",
   "execution_count": 6,
   "id": "b834644b",
   "metadata": {},
   "outputs": [
    {
     "data": {
      "text/plain": [
       "[1, 2, 3, 4]"
      ]
     },
     "execution_count": 6,
     "metadata": {},
     "output_type": "execute_result"
    }
   ],
   "source": [
    "list(set([1, 2, 3] + [2, 3, 4]))"
   ]
  },
  {
   "cell_type": "code",
   "execution_count": null,
   "id": "b406d36c",
   "metadata": {},
   "outputs": [],
   "source": []
  }
 ],
 "metadata": {
  "kernelspec": {
   "display_name": "Python 3",
   "language": "python",
   "name": "python3"
  },
  "language_info": {
   "codemirror_mode": {
    "name": "ipython",
    "version": 3
   },
   "file_extension": ".py",
   "mimetype": "text/x-python",
   "name": "python",
   "nbconvert_exporter": "python",
   "pygments_lexer": "ipython3",
   "version": "3.8.8"
  }
 },
 "nbformat": 4,
 "nbformat_minor": 5
}
